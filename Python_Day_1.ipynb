{
  "nbformat": 4,
  "nbformat_minor": 0,
  "metadata": {
    "colab": {
      "name": "Python Day 1.ipynb",
      "provenance": [],
      "collapsed_sections": []
    },
    "kernelspec": {
      "name": "python3",
      "display_name": "Python 3"
    },
    "language_info": {
      "name": "python"
    }
  },
  "cells": [
    {
      "cell_type": "code",
      "metadata": {
        "id": "yf2xYex3uyRT"
      },
      "source": [
        "A = 10"
      ],
      "execution_count": 1,
      "outputs": []
    },
    {
      "cell_type": "code",
      "metadata": {
        "id": "bd4MWzrj3ZRq"
      },
      "source": [
        "NAme = \"CJ\""
      ],
      "execution_count": 2,
      "outputs": []
    },
    {
      "cell_type": "code",
      "metadata": {
        "colab": {
          "base_uri": "https://localhost:8080/",
          "height": 35
        },
        "id": "k6G1yfD93eTi",
        "outputId": "c229f7b1-b8d8-48f0-d61e-e67c07b0016b"
      },
      "source": [
        "NAme"
      ],
      "execution_count": 3,
      "outputs": [
        {
          "output_type": "execute_result",
          "data": {
            "application/vnd.google.colaboratory.intrinsic+json": {
              "type": "string"
            },
            "text/plain": [
              "'CJ'"
            ]
          },
          "metadata": {},
          "execution_count": 3
        }
      ]
    },
    {
      "cell_type": "code",
      "metadata": {
        "colab": {
          "base_uri": "https://localhost:8080/"
        },
        "id": "e6GWUi0e3gan",
        "outputId": "5ec0ff13-5707-4b41-c8dc-8daf5ab73735"
      },
      "source": [
        "A"
      ],
      "execution_count": 4,
      "outputs": [
        {
          "output_type": "execute_result",
          "data": {
            "text/plain": [
              "10"
            ]
          },
          "metadata": {},
          "execution_count": 4
        }
      ]
    },
    {
      "cell_type": "code",
      "metadata": {
        "colab": {
          "base_uri": "https://localhost:8080/"
        },
        "id": "GrpGMmUh3iHD",
        "outputId": "ffed03d7-f02c-44aa-cd9a-d49337686a12"
      },
      "source": [
        "type(A)"
      ],
      "execution_count": 5,
      "outputs": [
        {
          "output_type": "execute_result",
          "data": {
            "text/plain": [
              "int"
            ]
          },
          "metadata": {},
          "execution_count": 5
        }
      ]
    },
    {
      "cell_type": "code",
      "metadata": {
        "colab": {
          "base_uri": "https://localhost:8080/"
        },
        "id": "BX-EiZ6z6hxM",
        "outputId": "d8ed8c5f-44d0-4b88-b12d-858bb9301120"
      },
      "source": [
        "type(NAme)"
      ],
      "execution_count": 6,
      "outputs": [
        {
          "output_type": "execute_result",
          "data": {
            "text/plain": [
              "str"
            ]
          },
          "metadata": {},
          "execution_count": 6
        }
      ]
    },
    {
      "cell_type": "code",
      "metadata": {
        "colab": {
          "base_uri": "https://localhost:8080/"
        },
        "id": "475XKghZ6jAL",
        "outputId": "c46799fb-e359-4245-be1c-33234add36cb"
      },
      "source": [
        "print(\"CARL JOHNSON\")"
      ],
      "execution_count": 7,
      "outputs": [
        {
          "output_type": "stream",
          "name": "stdout",
          "text": [
            "CARL JOHNSON\n"
          ]
        }
      ]
    },
    {
      "cell_type": "code",
      "metadata": {
        "id": "uuqJXYy86oZO"
      },
      "source": [
        "yolo = 22"
      ],
      "execution_count": 8,
      "outputs": []
    },
    {
      "cell_type": "code",
      "metadata": {
        "id": "VE8L0uwV63XX"
      },
      "source": [
        "olo = 23\n"
      ],
      "execution_count": 9,
      "outputs": []
    },
    {
      "cell_type": "code",
      "metadata": {
        "colab": {
          "base_uri": "https://localhost:8080/"
        },
        "id": "a-MYN8Me64z_",
        "outputId": "564dfe68-9e65-4151-b3e0-abc2e3428d67"
      },
      "source": [
        "print(yolo + olo)"
      ],
      "execution_count": 10,
      "outputs": [
        {
          "output_type": "stream",
          "name": "stdout",
          "text": [
            "45\n"
          ]
        }
      ]
    },
    {
      "cell_type": "code",
      "metadata": {
        "colab": {
          "base_uri": "https://localhost:8080/",
          "height": 53
        },
        "id": "Fq_vbukX67XN",
        "outputId": "0e5c2acb-472f-4e46-8053-85eb31ef6084"
      },
      "source": [
        "input()"
      ],
      "execution_count": 11,
      "outputs": [
        {
          "name": "stdout",
          "output_type": "stream",
          "text": [
            "22\n"
          ]
        },
        {
          "output_type": "execute_result",
          "data": {
            "application/vnd.google.colaboratory.intrinsic+json": {
              "type": "string"
            },
            "text/plain": [
              "'22'"
            ]
          },
          "metadata": {},
          "execution_count": 11
        }
      ]
    },
    {
      "cell_type": "code",
      "metadata": {
        "colab": {
          "base_uri": "https://localhost:8080/"
        },
        "id": "oSZdMfrd7NAJ",
        "outputId": "8b694432-ad85-40dc-d360-99e7f6e15317"
      },
      "source": [
        "Name = input(\"Hellow\")\n",
        "last_name = input(\"ENter the value:\")\n",
        "print(Name + \"\"+ last_name)"
      ],
      "execution_count": 12,
      "outputs": [
        {
          "output_type": "stream",
          "name": "stdout",
          "text": [
            "Hellowyo\n",
            "ENter the value:a\n",
            "yoa\n"
          ]
        }
      ]
    },
    {
      "cell_type": "code",
      "metadata": {
        "colab": {
          "base_uri": "https://localhost:8080/"
        },
        "id": "fG_cDi4P7b9H",
        "outputId": "1f69646f-a66f-4d1d-faba-1084a3c44366"
      },
      "source": [
        "A = 10 \n",
        "type(A)"
      ],
      "execution_count": 13,
      "outputs": [
        {
          "output_type": "execute_result",
          "data": {
            "text/plain": [
              "int"
            ]
          },
          "metadata": {},
          "execution_count": 13
        }
      ]
    },
    {
      "cell_type": "code",
      "metadata": {
        "colab": {
          "base_uri": "https://localhost:8080/"
        },
        "id": "C0CbbHWOM5Mx",
        "outputId": "0580b432-80e0-4920-99d1-82a8b93fdf10"
      },
      "source": [
        "B= 99.9\n",
        "type(B)"
      ],
      "execution_count": 14,
      "outputs": [
        {
          "output_type": "execute_result",
          "data": {
            "text/plain": [
              "float"
            ]
          },
          "metadata": {},
          "execution_count": 14
        }
      ]
    },
    {
      "cell_type": "code",
      "metadata": {
        "colab": {
          "base_uri": "https://localhost:8080/"
        },
        "id": "HZt5JAxTM7Lu",
        "outputId": "135783e5-dd33-421c-e466-222382d8f3de"
      },
      "source": [
        "k = 45.j\n",
        "type(k)"
      ],
      "execution_count": 15,
      "outputs": [
        {
          "output_type": "execute_result",
          "data": {
            "text/plain": [
              "complex"
            ]
          },
          "metadata": {},
          "execution_count": 15
        }
      ]
    },
    {
      "cell_type": "code",
      "metadata": {
        "id": "ex8RPHHBM97h"
      },
      "source": [
        "#   +   -   /   *     %    //    **"
      ],
      "execution_count": 19,
      "outputs": []
    },
    {
      "cell_type": "code",
      "metadata": {
        "colab": {
          "base_uri": "https://localhost:8080/"
        },
        "id": "8k2Ly19nNLzi",
        "outputId": "c6e47dec-cfdf-4de3-d38f-b5cc32e5f1ee"
      },
      "source": [
        "24 ** 2"
      ],
      "execution_count": 16,
      "outputs": [
        {
          "output_type": "execute_result",
          "data": {
            "text/plain": [
              "576"
            ]
          },
          "metadata": {},
          "execution_count": 16
        }
      ]
    },
    {
      "cell_type": "code",
      "metadata": {
        "colab": {
          "base_uri": "https://localhost:8080/"
        },
        "id": "MAzyvMH-NaYj",
        "outputId": "8ee9893a-a7ae-419e-fb3f-fd3120ead397"
      },
      "source": [
        "24 //4"
      ],
      "execution_count": 17,
      "outputs": [
        {
          "output_type": "execute_result",
          "data": {
            "text/plain": [
              "6"
            ]
          },
          "metadata": {},
          "execution_count": 17
        }
      ]
    },
    {
      "cell_type": "code",
      "metadata": {
        "colab": {
          "base_uri": "https://localhost:8080/"
        },
        "id": "ZI1NQQ5HNccv",
        "outputId": "72278ab4-2db3-4df6-961c-d851b699d0a5"
      },
      "source": [
        "24 / 4"
      ],
      "execution_count": 18,
      "outputs": [
        {
          "output_type": "execute_result",
          "data": {
            "text/plain": [
              "6.0"
            ]
          },
          "metadata": {},
          "execution_count": 18
        }
      ]
    },
    {
      "cell_type": "code",
      "metadata": {
        "colab": {
          "base_uri": "https://localhost:8080/"
        },
        "id": "rRneDnfdNdff",
        "outputId": "dac256c2-f5a9-41ed-f236-761c3b45f223"
      },
      "source": [
        "# Hypotenuse\n",
        "A = int(input(\"Please enter a value: \"))\n",
        "B = int(input(\"Please enter a value: \"))\n",
        "C = (A ** 2 + B ** 2) ** 0.5\n",
        "print(\"Hypotenuse: \", C)"
      ],
      "execution_count": 20,
      "outputs": [
        {
          "output_type": "stream",
          "name": "stdout",
          "text": [
            "Please enter a value: 4\n",
            "Please enter a value: 4\n",
            "Hypotenuse:  5.656854249492381\n"
          ]
        }
      ]
    },
    {
      "cell_type": "code",
      "metadata": {
        "colab": {
          "base_uri": "https://localhost:8080/"
        },
        "id": "I43VMgh4OK5e",
        "outputId": "422ba4e8-d8c7-4d1a-f3c5-e4fadd248c0c"
      },
      "source": [
        "# BMI Calculator\n",
        "Height = float(input(\"Please enter your height in meters: \"))\n",
        "Weight = int(input(\"Please enter your weight: \"))\n",
        "BMI = Weight / (Height ** 2)\n",
        "print (BMI)"
      ],
      "execution_count": 22,
      "outputs": [
        {
          "output_type": "stream",
          "name": "stdout",
          "text": [
            "Please enter your height in meters: 1.66\n",
            "Please enter your weight: 76\n",
            "27.58020031934969\n"
          ]
        }
      ]
    },
    {
      "cell_type": "code",
      "metadata": {
        "colab": {
          "base_uri": "https://localhost:8080/"
        },
        "id": "6B5rcBkdOnMT",
        "outputId": "9552e2a0-e574-4253-a4f5-5de84d56ce94"
      },
      "source": [
        "# Strings\n",
        "A = \"Python\"\n",
        "type(A)"
      ],
      "execution_count": 23,
      "outputs": [
        {
          "output_type": "execute_result",
          "data": {
            "text/plain": [
              "str"
            ]
          },
          "metadata": {},
          "execution_count": 23
        }
      ]
    },
    {
      "cell_type": "code",
      "metadata": {
        "colab": {
          "base_uri": "https://localhost:8080/",
          "height": 35
        },
        "id": "YpX8246CSbng",
        "outputId": "6c04e884-6968-4fed-99f1-6d45afeabc7e"
      },
      "source": [
        "String = \"London\"\n",
        "String[0]"
      ],
      "execution_count": 24,
      "outputs": [
        {
          "output_type": "execute_result",
          "data": {
            "application/vnd.google.colaboratory.intrinsic+json": {
              "type": "string"
            },
            "text/plain": [
              "'L'"
            ]
          },
          "metadata": {},
          "execution_count": 24
        }
      ]
    },
    {
      "cell_type": "code",
      "metadata": {
        "colab": {
          "base_uri": "https://localhost:8080/",
          "height": 35
        },
        "id": "qpMwJeTNSym9",
        "outputId": "3a1c16dd-20df-425b-b909-b33e0338cd2a"
      },
      "source": [
        "String[1]"
      ],
      "execution_count": 25,
      "outputs": [
        {
          "output_type": "execute_result",
          "data": {
            "application/vnd.google.colaboratory.intrinsic+json": {
              "type": "string"
            },
            "text/plain": [
              "'o'"
            ]
          },
          "metadata": {},
          "execution_count": 25
        }
      ]
    },
    {
      "cell_type": "code",
      "metadata": {
        "colab": {
          "base_uri": "https://localhost:8080/",
          "height": 35
        },
        "id": "sD6FR89zSz2p",
        "outputId": "6264dc0f-293e-4d5e-a281-1c5980270318"
      },
      "source": [
        "String[-1]"
      ],
      "execution_count": 26,
      "outputs": [
        {
          "output_type": "execute_result",
          "data": {
            "application/vnd.google.colaboratory.intrinsic+json": {
              "type": "string"
            },
            "text/plain": [
              "'n'"
            ]
          },
          "metadata": {},
          "execution_count": 26
        }
      ]
    },
    {
      "cell_type": "code",
      "metadata": {
        "colab": {
          "base_uri": "https://localhost:8080/",
          "height": 35
        },
        "id": "9cJYGK3pS1CA",
        "outputId": "fb49c7a9-8ddf-4a0c-e3bf-8d49b4a7e04b"
      },
      "source": [
        "String[0:3]"
      ],
      "execution_count": 27,
      "outputs": [
        {
          "output_type": "execute_result",
          "data": {
            "application/vnd.google.colaboratory.intrinsic+json": {
              "type": "string"
            },
            "text/plain": [
              "'Lon'"
            ]
          },
          "metadata": {},
          "execution_count": 27
        }
      ]
    },
    {
      "cell_type": "code",
      "metadata": {
        "colab": {
          "base_uri": "https://localhost:8080/",
          "height": 35
        },
        "id": "I7JKSg1jS3vP",
        "outputId": "e367057b-616e-4bb1-bb09-83b9deb8f838"
      },
      "source": [
        "String[:2]"
      ],
      "execution_count": 28,
      "outputs": [
        {
          "output_type": "execute_result",
          "data": {
            "application/vnd.google.colaboratory.intrinsic+json": {
              "type": "string"
            },
            "text/plain": [
              "'Lo'"
            ]
          },
          "metadata": {},
          "execution_count": 28
        }
      ]
    },
    {
      "cell_type": "code",
      "metadata": {
        "colab": {
          "base_uri": "https://localhost:8080/"
        },
        "id": "FTXeb_9JS58O",
        "outputId": "bb0104f5-d682-4cf9-d041-e6cfa4d1feee"
      },
      "source": [
        "len(String)"
      ],
      "execution_count": 29,
      "outputs": [
        {
          "output_type": "execute_result",
          "data": {
            "text/plain": [
              "6"
            ]
          },
          "metadata": {},
          "execution_count": 29
        }
      ]
    },
    {
      "cell_type": "code",
      "metadata": {
        "colab": {
          "base_uri": "https://localhost:8080/",
          "height": 35
        },
        "id": "flimYaCrTDGp",
        "outputId": "6866dca5-1c8a-4e10-a0dc-08bc857fb545"
      },
      "source": [
        "\"   London is a big city    \".strip()"
      ],
      "execution_count": 30,
      "outputs": [
        {
          "output_type": "execute_result",
          "data": {
            "application/vnd.google.colaboratory.intrinsic+json": {
              "type": "string"
            },
            "text/plain": [
              "'London is a big city'"
            ]
          },
          "metadata": {},
          "execution_count": 30
        }
      ]
    },
    {
      "cell_type": "code",
      "metadata": {
        "colab": {
          "base_uri": "https://localhost:8080/",
          "height": 35
        },
        "id": "Uwgv9cTLTT13",
        "outputId": "fa3bbffd-53d8-494a-f9b8-65a8a31f75ed"
      },
      "source": [
        "\"<<<< London is \".strip(\"<\")"
      ],
      "execution_count": 32,
      "outputs": [
        {
          "output_type": "execute_result",
          "data": {
            "application/vnd.google.colaboratory.intrinsic+json": {
              "type": "string"
            },
            "text/plain": [
              "' London is '"
            ]
          },
          "metadata": {},
          "execution_count": 32
        }
      ]
    },
    {
      "cell_type": "code",
      "metadata": {
        "colab": {
          "base_uri": "https://localhost:8080/",
          "height": 35
        },
        "id": "i8uRnRsQTYCZ",
        "outputId": "7df24d8b-cccb-4ba2-9383-64d51b83bda5"
      },
      "source": [
        "\"LONDON\".lower()"
      ],
      "execution_count": 33,
      "outputs": [
        {
          "output_type": "execute_result",
          "data": {
            "application/vnd.google.colaboratory.intrinsic+json": {
              "type": "string"
            },
            "text/plain": [
              "'london'"
            ]
          },
          "metadata": {},
          "execution_count": 33
        }
      ]
    },
    {
      "cell_type": "code",
      "metadata": {
        "colab": {
          "base_uri": "https://localhost:8080/",
          "height": 35
        },
        "id": "CDMoKxLDTedx",
        "outputId": "149ff66d-d459-4e37-d4b2-9cab3af5ffad"
      },
      "source": [
        "\"Delhi is the capital of India\".replace(\"Delhi\",\"New Delhi\")"
      ],
      "execution_count": 34,
      "outputs": [
        {
          "output_type": "execute_result",
          "data": {
            "application/vnd.google.colaboratory.intrinsic+json": {
              "type": "string"
            },
            "text/plain": [
              "'New Delhi is the capital of India'"
            ]
          },
          "metadata": {},
          "execution_count": 34
        }
      ]
    },
    {
      "cell_type": "code",
      "metadata": {
        "colab": {
          "base_uri": "https://localhost:8080/"
        },
        "id": "rJnoVd9nTwT_",
        "outputId": "9a2e280c-d38a-4756-f120-7a6a44002842"
      },
      "source": [
        "numb = 12345\n",
        "type(numb)"
      ],
      "execution_count": 35,
      "outputs": [
        {
          "output_type": "execute_result",
          "data": {
            "text/plain": [
              "int"
            ]
          },
          "metadata": {},
          "execution_count": 35
        }
      ]
    },
    {
      "cell_type": "code",
      "metadata": {
        "colab": {
          "base_uri": "https://localhost:8080/",
          "height": 35
        },
        "id": "_VwUwvFoYQr4",
        "outputId": "90532055-05db-4f29-da7e-1264f2be0e49"
      },
      "source": [
        "string = str(numb)\n",
        "string"
      ],
      "execution_count": 36,
      "outputs": [
        {
          "output_type": "execute_result",
          "data": {
            "application/vnd.google.colaboratory.intrinsic+json": {
              "type": "string"
            },
            "text/plain": [
              "'12345'"
            ]
          },
          "metadata": {},
          "execution_count": 36
        }
      ]
    },
    {
      "cell_type": "code",
      "metadata": {
        "colab": {
          "base_uri": "https://localhost:8080/"
        },
        "id": "4Sg7iMwwYTs7",
        "outputId": "352d4df0-5127-445b-be07-3a05840f2512"
      },
      "source": [
        "type(str)"
      ],
      "execution_count": 37,
      "outputs": [
        {
          "output_type": "execute_result",
          "data": {
            "text/plain": [
              "type"
            ]
          },
          "metadata": {},
          "execution_count": 37
        }
      ]
    },
    {
      "cell_type": "code",
      "metadata": {
        "colab": {
          "base_uri": "https://localhost:8080/"
        },
        "id": "TVaOY5OmYUtE",
        "outputId": "97c0a3f3-e80c-4df5-e69d-c13b1a313731"
      },
      "source": [
        "type(string)"
      ],
      "execution_count": 38,
      "outputs": [
        {
          "output_type": "execute_result",
          "data": {
            "text/plain": [
              "str"
            ]
          },
          "metadata": {},
          "execution_count": 38
        }
      ]
    },
    {
      "cell_type": "code",
      "metadata": {
        "colab": {
          "base_uri": "https://localhost:8080/"
        },
        "id": "EO31sSwlYdTK",
        "outputId": "3a131037-1453-4298-aef9-05b66a5ae71c"
      },
      "source": [
        "#Email Generator\n",
        "user = input(\"Please enter your name: \")\n",
        "user_edit = user.replace(\" \", \" \")\n",
        "Company_name = input(\"Please enter your company name: \")\n",
        "Company_edit = Company_name.replace(\" \",\" \")\n",
        "Email_Address = user_edit + \"@\" + Company_edit + \".com\"\n",
        "Email_edit = Email_Address.lower()\n",
        "print(\"Email Address: \", Email_edit)"
      ],
      "execution_count": 40,
      "outputs": [
        {
          "output_type": "stream",
          "name": "stdout",
          "text": [
            "Please enter your name: Harley\n",
            "Please enter your company name: ADCE\n",
            "Email Address:  harley@adce.com\n"
          ]
        }
      ]
    },
    {
      "cell_type": "code",
      "metadata": {
        "colab": {
          "base_uri": "https://localhost:8080/"
        },
        "id": "RADVt86NZ4SW",
        "outputId": "764299be-aa6d-4306-8049-4cb4567bed98"
      },
      "source": [
        "\"John\" == \"Carl\""
      ],
      "execution_count": 43,
      "outputs": [
        {
          "output_type": "execute_result",
          "data": {
            "text/plain": [
              "False"
            ]
          },
          "metadata": {},
          "execution_count": 43
        }
      ]
    },
    {
      "cell_type": "code",
      "metadata": {
        "colab": {
          "base_uri": "https://localhost:8080/"
        },
        "id": "3UbERL9dbwOA",
        "outputId": "b02e93c9-4398-4cee-9cf1-60b8af0bcbf5"
      },
      "source": [
        "\"Carl Johnson\" != \"CJ\""
      ],
      "execution_count": 46,
      "outputs": [
        {
          "output_type": "execute_result",
          "data": {
            "text/plain": [
              "True"
            ]
          },
          "metadata": {},
          "execution_count": 46
        }
      ]
    },
    {
      "cell_type": "code",
      "metadata": {
        "colab": {
          "base_uri": "https://localhost:8080/"
        },
        "id": "BLRxFTIjb49T",
        "outputId": "dcae3e7d-01d8-4c06-a4d4-9300a0d6eda9"
      },
      "source": [
        "4 == 4 and \"CJ\" == \"CJ\""
      ],
      "execution_count": 47,
      "outputs": [
        {
          "output_type": "execute_result",
          "data": {
            "text/plain": [
              "True"
            ]
          },
          "metadata": {},
          "execution_count": 47
        }
      ]
    },
    {
      "cell_type": "code",
      "metadata": {
        "id": "yevtG3f7c6lN"
      },
      "source": [
        "# and\n",
        "# or\n",
        "# not"
      ],
      "execution_count": null,
      "outputs": []
    },
    {
      "cell_type": "code",
      "metadata": {
        "colab": {
          "base_uri": "https://localhost:8080/"
        },
        "id": "jKlTtfkEgGIa",
        "outputId": "5d97113a-e03e-469b-e1fe-b66373cfdb8d"
      },
      "source": [
        "age = int(input(\"Please enter the age \"))\n",
        "\n",
        "if age < 21:\n",
        "  print(\"You cant enter!\")"
      ],
      "execution_count": 49,
      "outputs": [
        {
          "output_type": "stream",
          "name": "stdout",
          "text": [
            "Please enter the age11\n",
            "You cant enter!\n"
          ]
        }
      ]
    },
    {
      "cell_type": "code",
      "metadata": {
        "colab": {
          "base_uri": "https://localhost:8080/"
        },
        "id": "cSw57vo4giDE",
        "outputId": "0fd93667-4f4e-4d92-9bc1-6ded1cbcd094"
      },
      "source": [
        "age = int(input(\"Please enter the age \"))\n",
        "\n",
        "if age < 21:\n",
        "  print(\"You cant enter!\")\n",
        "else:\n",
        "  print(\"Welcome\")"
      ],
      "execution_count": 50,
      "outputs": [
        {
          "output_type": "stream",
          "name": "stdout",
          "text": [
            "Please enter the age 22\n",
            "Welcome\n"
          ]
        }
      ]
    },
    {
      "cell_type": "code",
      "metadata": {
        "colab": {
          "base_uri": "https://localhost:8080/"
        },
        "id": "eJHV22CGgymT",
        "outputId": "816f080a-22d5-47f3-bc42-02fb95fa414a"
      },
      "source": [
        "Model = int(input(\"Please choose 1-3:\"))\n",
        "\n",
        "if Model == 1:\n",
        "  print(\"You choose Rolls royce.. \")\n",
        "elif Model == 2:\n",
        "  print(\"You choose Aston Martin..\")\n",
        "elif Model == 3:\n",
        "  print(\"You choose Bentley..\")\n",
        "else:\n",
        "  print(\"Invalid Number...\")"
      ],
      "execution_count": 52,
      "outputs": [
        {
          "output_type": "stream",
          "name": "stdout",
          "text": [
            "Please choose 1-3:2\n",
            "You choose Aston Martin..\n"
          ]
        }
      ]
    },
    {
      "cell_type": "code",
      "metadata": {
        "colab": {
          "base_uri": "https://localhost:8080/"
        },
        "id": "lSCGqubWhWld",
        "outputId": "db1cbc31-b1c7-49e4-9eaa-831d562b9cf4"
      },
      "source": [
        "Model = int(input(\"Please choose 1-3:\"))\n",
        "\n",
        "if Model == 1:\n",
        "  print(\"You choose Rolls royce.. \")\n",
        "elif Model == 2:\n",
        "  print(\"You choose Aston Martin..\")\n",
        "elif Model == 3:\n",
        "  print(\"You choose Bentley..\")"
      ],
      "execution_count": 53,
      "outputs": [
        {
          "name": "stdout",
          "output_type": "stream",
          "text": [
            "Please choose 1-3:4\n"
          ]
        }
      ]
    },
    {
      "cell_type": "code",
      "metadata": {
        "colab": {
          "base_uri": "https://localhost:8080/"
        },
        "id": "ng1NNQuahdaX",
        "outputId": "2c2e19ed-6bce-4c0b-cf1d-0f3efd554c20"
      },
      "source": [
        "#Calculator\n",
        "import math\n",
        "\n",
        "Operation = int(input(\"Please choose operation you want to do: \"))\n",
        "\n",
        "if Operation == 1:\n",
        "  Number_1 = int(input(\"Please enter the first number: \"))\n",
        "  Number_2 = int(input(\"Please enter the second number: \"))\n",
        "\n",
        "  print(\"Result: \" , Number_1 + Number_2)\n",
        "\n",
        "elif Operation == 2:\n",
        "  Number_1 = int(input(\"Please enter the first number: \"))\n",
        "  Number_2 = int(input(\"Please enter the second number: \"))\n",
        "\n",
        "  print(\"Result: \" , Number_1 - Number_2)  \n",
        "\n",
        "elif Operation == 3:\n",
        "  Number_1 = int(input(\"Please enter the first number: \"))\n",
        "  Number_2 = int(input(\"Please enter the second number: \"))\n",
        "\n",
        "  print(\"Result: \" , Number_1 * Number_2)  \n",
        "\n",
        "elif Operation == 4:\n",
        "  Number_1 = int(input(\"Please enter the first number: \"))\n",
        "  Number_2 = int(input(\"Please enter the second number: \"))\n",
        "\n",
        "  print(\"Result: \" , Number_1 / Number_2) \n",
        "\n",
        "elif Operation == 5:\n",
        "  Number_1 = int(input(\"Please enter the number: \"))\n",
        "\n",
        "  print(\"Result: \" , Number_1 ** Number_1)  \n",
        "\n",
        "elif Operation == 6:\n",
        "  Weight = float(input(\"Please enter your weight: \"))\n",
        "  Height = float(input(\"Please enter your height: \"))\n",
        "\n",
        "  print(\"Result: \" , Weight / (Height **2))\n",
        "\n",
        "elif Operation == 7:\n",
        "  Base = int(input(\"Please enter the base: \"))\n",
        "  Height = int(input(\"Please enter the height: \"))\n",
        "\n",
        "  print(\"Result: \", (Base * Height)/2)\n",
        "\n",
        "elif Operation == 8:\n",
        "  Side = int(input(\"Please enter the side: \"))\n",
        "\n",
        "  print(\"Result: \", Side **2) \n",
        "\n",
        "elif Operation == 9:\n",
        "  Number = int(input(\"Please enter a number: \"))\n",
        "\n",
        "  print(\"Result: \",Number ** 0.5)\n",
        "\n",
        "elif Operation == 0:\n",
        "  print(\"Program is shutting down..\")\n",
        "\n",
        "else:\n",
        "  print(\"Invalid Operation\")  \n",
        "\n"
      ],
      "execution_count": 65,
      "outputs": [
        {
          "output_type": "stream",
          "name": "stdout",
          "text": [
            "Please choose operation you want to do: 1\n",
            "Please enter the first number: 3\n",
            "Please enter the second number: 2\n",
            "Result:  5\n"
          ]
        }
      ]
    },
    {
      "cell_type": "code",
      "metadata": {
        "id": "mYh9gdDqiXLg"
      },
      "source": [
        ""
      ],
      "execution_count": null,
      "outputs": []
    }
  ]
}