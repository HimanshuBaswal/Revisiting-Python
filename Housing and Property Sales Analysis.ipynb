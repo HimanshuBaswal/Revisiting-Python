{
 "cells": [
  {
   "cell_type": "markdown",
   "id": "c40f593d",
   "metadata": {},
   "source": [
    "## Housing and Property Sales Analysis"
   ]
  },
  {
   "cell_type": "code",
   "execution_count": 2,
   "id": "57ff3b42",
   "metadata": {},
   "outputs": [],
   "source": [
    "#Importing our library\n",
    "import pandas as pd\n",
    "import numpy as np\n",
    "import matplotlib.pyplot as plt\n",
    "%matplotlib inline"
   ]
  },
  {
   "cell_type": "code",
   "execution_count": 3,
   "id": "b2430851",
   "metadata": {},
   "outputs": [],
   "source": [
    "#Reading our dataset\n",
    "hps = pd.read_csv(\"House Sales.csv\")"
   ]
  },
  {
   "cell_type": "code",
   "execution_count": 4,
   "id": "9960e512",
   "metadata": {},
   "outputs": [
    {
     "data": {
      "text/html": [
       "<div>\n",
       "<style scoped>\n",
       "    .dataframe tbody tr th:only-of-type {\n",
       "        vertical-align: middle;\n",
       "    }\n",
       "\n",
       "    .dataframe tbody tr th {\n",
       "        vertical-align: top;\n",
       "    }\n",
       "\n",
       "    .dataframe thead th {\n",
       "        text-align: right;\n",
       "    }\n",
       "</style>\n",
       "<table border=\"1\" class=\"dataframe\">\n",
       "  <thead>\n",
       "    <tr style=\"text-align: right;\">\n",
       "      <th></th>\n",
       "      <th>Datesold</th>\n",
       "      <th>Postcode</th>\n",
       "      <th>Price</th>\n",
       "      <th>Property Type</th>\n",
       "      <th>Bedrooms</th>\n",
       "      <th>Year</th>\n",
       "    </tr>\n",
       "  </thead>\n",
       "  <tbody>\n",
       "    <tr>\n",
       "      <th>0</th>\n",
       "      <td>07/02/2007 00:00</td>\n",
       "      <td>2607</td>\n",
       "      <td>525000</td>\n",
       "      <td>house</td>\n",
       "      <td>4</td>\n",
       "      <td>2007</td>\n",
       "    </tr>\n",
       "    <tr>\n",
       "      <th>1</th>\n",
       "      <td>27/02/2007 00:00</td>\n",
       "      <td>2906</td>\n",
       "      <td>290000</td>\n",
       "      <td>house</td>\n",
       "      <td>3</td>\n",
       "      <td>2007</td>\n",
       "    </tr>\n",
       "    <tr>\n",
       "      <th>2</th>\n",
       "      <td>07/03/2007 00:00</td>\n",
       "      <td>2905</td>\n",
       "      <td>328000</td>\n",
       "      <td>house</td>\n",
       "      <td>3</td>\n",
       "      <td>2007</td>\n",
       "    </tr>\n",
       "    <tr>\n",
       "      <th>3</th>\n",
       "      <td>09/03/2007 00:00</td>\n",
       "      <td>2905</td>\n",
       "      <td>380000</td>\n",
       "      <td>house</td>\n",
       "      <td>4</td>\n",
       "      <td>2007</td>\n",
       "    </tr>\n",
       "    <tr>\n",
       "      <th>4</th>\n",
       "      <td>21/03/2007 00:00</td>\n",
       "      <td>2906</td>\n",
       "      <td>310000</td>\n",
       "      <td>house</td>\n",
       "      <td>3</td>\n",
       "      <td>2007</td>\n",
       "    </tr>\n",
       "    <tr>\n",
       "      <th>...</th>\n",
       "      <td>...</td>\n",
       "      <td>...</td>\n",
       "      <td>...</td>\n",
       "      <td>...</td>\n",
       "      <td>...</td>\n",
       "      <td>...</td>\n",
       "    </tr>\n",
       "    <tr>\n",
       "      <th>28190</th>\n",
       "      <td>21/12/2018 00:00</td>\n",
       "      <td>2612</td>\n",
       "      <td>580000</td>\n",
       "      <td>unit</td>\n",
       "      <td>2</td>\n",
       "      <td>2018</td>\n",
       "    </tr>\n",
       "    <tr>\n",
       "      <th>28191</th>\n",
       "      <td>22/12/2018 00:00</td>\n",
       "      <td>2602</td>\n",
       "      <td>750000</td>\n",
       "      <td>house</td>\n",
       "      <td>3</td>\n",
       "      <td>2018</td>\n",
       "    </tr>\n",
       "    <tr>\n",
       "      <th>28192</th>\n",
       "      <td>24/12/2018 00:00</td>\n",
       "      <td>2914</td>\n",
       "      <td>640000</td>\n",
       "      <td>house</td>\n",
       "      <td>4</td>\n",
       "      <td>2018</td>\n",
       "    </tr>\n",
       "    <tr>\n",
       "      <th>28193</th>\n",
       "      <td>24/12/2018 00:00</td>\n",
       "      <td>2602</td>\n",
       "      <td>780000</td>\n",
       "      <td>house</td>\n",
       "      <td>3</td>\n",
       "      <td>2018</td>\n",
       "    </tr>\n",
       "    <tr>\n",
       "      <th>28194</th>\n",
       "      <td>24/12/2018 00:00</td>\n",
       "      <td>2603</td>\n",
       "      <td>1410000</td>\n",
       "      <td>house</td>\n",
       "      <td>4</td>\n",
       "      <td>2018</td>\n",
       "    </tr>\n",
       "  </tbody>\n",
       "</table>\n",
       "<p>28195 rows × 6 columns</p>\n",
       "</div>"
      ],
      "text/plain": [
       "               Datesold  Postcode    Price Property Type  Bedrooms  Year\n",
       "0      07/02/2007 00:00      2607   525000         house         4  2007\n",
       "1      27/02/2007 00:00      2906   290000         house         3  2007\n",
       "2      07/03/2007 00:00      2905   328000         house         3  2007\n",
       "3      09/03/2007 00:00      2905   380000         house         4  2007\n",
       "4      21/03/2007 00:00      2906   310000         house         3  2007\n",
       "...                 ...       ...      ...           ...       ...   ...\n",
       "28190  21/12/2018 00:00      2612   580000          unit         2  2018\n",
       "28191  22/12/2018 00:00      2602   750000         house         3  2018\n",
       "28192  24/12/2018 00:00      2914   640000         house         4  2018\n",
       "28193  24/12/2018 00:00      2602   780000         house         3  2018\n",
       "28194  24/12/2018 00:00      2603  1410000         house         4  2018\n",
       "\n",
       "[28195 rows x 6 columns]"
      ]
     },
     "execution_count": 4,
     "metadata": {},
     "output_type": "execute_result"
    }
   ],
   "source": [
    "hps"
   ]
  },
  {
   "cell_type": "code",
   "execution_count": 6,
   "id": "f4bb1b37",
   "metadata": {},
   "outputs": [
    {
     "data": {
      "text/html": [
       "<div>\n",
       "<style scoped>\n",
       "    .dataframe tbody tr th:only-of-type {\n",
       "        vertical-align: middle;\n",
       "    }\n",
       "\n",
       "    .dataframe tbody tr th {\n",
       "        vertical-align: top;\n",
       "    }\n",
       "\n",
       "    .dataframe thead th {\n",
       "        text-align: right;\n",
       "    }\n",
       "</style>\n",
       "<table border=\"1\" class=\"dataframe\">\n",
       "  <thead>\n",
       "    <tr style=\"text-align: right;\">\n",
       "      <th></th>\n",
       "      <th>Postcode</th>\n",
       "      <th>Price</th>\n",
       "      <th>Bedrooms</th>\n",
       "      <th>Year</th>\n",
       "    </tr>\n",
       "  </thead>\n",
       "  <tbody>\n",
       "    <tr>\n",
       "      <th>count</th>\n",
       "      <td>28195.000000</td>\n",
       "      <td>2.819500e+04</td>\n",
       "      <td>28195.000000</td>\n",
       "      <td>28195.000000</td>\n",
       "    </tr>\n",
       "    <tr>\n",
       "      <th>mean</th>\n",
       "      <td>2730.001561</td>\n",
       "      <td>6.085353e+05</td>\n",
       "      <td>3.256606</td>\n",
       "      <td>2014.410427</td>\n",
       "    </tr>\n",
       "    <tr>\n",
       "      <th>std</th>\n",
       "      <td>146.678019</td>\n",
       "      <td>2.822570e+05</td>\n",
       "      <td>0.945947</td>\n",
       "      <td>2.869267</td>\n",
       "    </tr>\n",
       "    <tr>\n",
       "      <th>min</th>\n",
       "      <td>2600.000000</td>\n",
       "      <td>5.650000e+04</td>\n",
       "      <td>0.000000</td>\n",
       "      <td>2007.000000</td>\n",
       "    </tr>\n",
       "    <tr>\n",
       "      <th>25%</th>\n",
       "      <td>2607.000000</td>\n",
       "      <td>4.400000e+05</td>\n",
       "      <td>3.000000</td>\n",
       "      <td>2012.000000</td>\n",
       "    </tr>\n",
       "    <tr>\n",
       "      <th>50%</th>\n",
       "      <td>2615.000000</td>\n",
       "      <td>5.500000e+05</td>\n",
       "      <td>3.000000</td>\n",
       "      <td>2015.000000</td>\n",
       "    </tr>\n",
       "    <tr>\n",
       "      <th>75%</th>\n",
       "      <td>2905.000000</td>\n",
       "      <td>7.000000e+05</td>\n",
       "      <td>4.000000</td>\n",
       "      <td>2017.000000</td>\n",
       "    </tr>\n",
       "    <tr>\n",
       "      <th>max</th>\n",
       "      <td>2914.000000</td>\n",
       "      <td>8.000000e+06</td>\n",
       "      <td>5.000000</td>\n",
       "      <td>2018.000000</td>\n",
       "    </tr>\n",
       "  </tbody>\n",
       "</table>\n",
       "</div>"
      ],
      "text/plain": [
       "           Postcode         Price      Bedrooms          Year\n",
       "count  28195.000000  2.819500e+04  28195.000000  28195.000000\n",
       "mean    2730.001561  6.085353e+05      3.256606   2014.410427\n",
       "std      146.678019  2.822570e+05      0.945947      2.869267\n",
       "min     2600.000000  5.650000e+04      0.000000   2007.000000\n",
       "25%     2607.000000  4.400000e+05      3.000000   2012.000000\n",
       "50%     2615.000000  5.500000e+05      3.000000   2015.000000\n",
       "75%     2905.000000  7.000000e+05      4.000000   2017.000000\n",
       "max     2914.000000  8.000000e+06      5.000000   2018.000000"
      ]
     },
     "execution_count": 6,
     "metadata": {},
     "output_type": "execute_result"
    }
   ],
   "source": [
    "hps.describe()"
   ]
  },
  {
   "cell_type": "code",
   "execution_count": 7,
   "id": "48fbc826",
   "metadata": {},
   "outputs": [
    {
     "data": {
      "text/plain": [
       "Datesold         28195\n",
       "Postcode         28195\n",
       "Price            28195\n",
       "Property Type    28195\n",
       "Bedrooms         28195\n",
       "Year             28195\n",
       "dtype: int64"
      ]
     },
     "execution_count": 7,
     "metadata": {},
     "output_type": "execute_result"
    }
   ],
   "source": [
    "#Find the how many houses and properties are sold \n",
    "hps.count()"
   ]
  },
  {
   "cell_type": "code",
   "execution_count": 9,
   "id": "db82d36a",
   "metadata": {},
   "outputs": [
    {
     "data": {
      "text/plain": [
       "608535.3251640361"
      ]
     },
     "execution_count": 9,
     "metadata": {},
     "output_type": "execute_result"
    }
   ],
   "source": [
    "#Calculate the average house price\n",
    "hps['Price'].mean()"
   ]
  },
  {
   "cell_type": "code",
   "execution_count": 10,
   "id": "b7127593",
   "metadata": {},
   "outputs": [
    {
     "data": {
      "text/plain": [
       "8000000"
      ]
     },
     "execution_count": 10,
     "metadata": {},
     "output_type": "execute_result"
    }
   ],
   "source": [
    "#Find the highest sales\n",
    "hps['Price'].max()"
   ]
  },
  {
   "cell_type": "code",
   "execution_count": 11,
   "id": "fb0dc24e",
   "metadata": {},
   "outputs": [
    {
     "data": {
      "text/html": [
       "<div>\n",
       "<style scoped>\n",
       "    .dataframe tbody tr th:only-of-type {\n",
       "        vertical-align: middle;\n",
       "    }\n",
       "\n",
       "    .dataframe tbody tr th {\n",
       "        vertical-align: top;\n",
       "    }\n",
       "\n",
       "    .dataframe thead th {\n",
       "        text-align: right;\n",
       "    }\n",
       "</style>\n",
       "<table border=\"1\" class=\"dataframe\">\n",
       "  <thead>\n",
       "    <tr style=\"text-align: right;\">\n",
       "      <th></th>\n",
       "      <th>Datesold</th>\n",
       "      <th>Postcode</th>\n",
       "      <th>Price</th>\n",
       "      <th>Property Type</th>\n",
       "      <th>Bedrooms</th>\n",
       "      <th>Year</th>\n",
       "    </tr>\n",
       "  </thead>\n",
       "  <tbody>\n",
       "    <tr>\n",
       "      <th>15186</th>\n",
       "      <td>02/11/2015 00:00</td>\n",
       "      <td>2611</td>\n",
       "      <td>8000000</td>\n",
       "      <td>house</td>\n",
       "      <td>4</td>\n",
       "      <td>2015</td>\n",
       "    </tr>\n",
       "  </tbody>\n",
       "</table>\n",
       "</div>"
      ],
      "text/plain": [
       "               Datesold  Postcode    Price Property Type  Bedrooms  Year\n",
       "15186  02/11/2015 00:00      2611  8000000         house         4  2015"
      ]
     },
     "execution_count": 11,
     "metadata": {},
     "output_type": "execute_result"
    }
   ],
   "source": [
    "hps[hps['Price'].max() == hps['Price']]"
   ]
  },
  {
   "cell_type": "code",
   "execution_count": 15,
   "id": "da8f29a4",
   "metadata": {},
   "outputs": [],
   "source": [
    "#Group the dataset by years\n",
    "hps_y = hps.groupby('Year')\n",
    "hps_b = hps.groupby('Bedrooms')\n",
    "hps_t = hps.groupby('Property Type')"
   ]
  },
  {
   "cell_type": "code",
   "execution_count": 21,
   "id": "e6c4d5ab",
   "metadata": {},
   "outputs": [
    {
     "data": {
      "text/plain": [
       "{2007: [0, 1, 2, 3, 4, 5, 6, 7, 8, 9, 10, 11, 12, 13, 14, 15, 16, 17, 18, 19, 20, 21, 22, 23, 24, 25, 26, 27, 28, 29, 30, 31, 32, 33, 34, 35, 36, 37, 38, 39, 40, 41, 42, 43, 44, 45, 46, 47, 48, 49, 50, 51, 52, 53, 54, 55, 56, 57, 58, 59, 60, 61, 62, 63, 64, 65, 66, 67, 68, 69, 70, 71, 72, 73, 74, 75, 76, 77, 78, 79, 80, 81, 82, 83, 84, 85, 86, 87, 88, 89, 90, 91, 92, 93, 94, 95, 96, 97, 98, 99, ...], 2008: [147, 148, 149, 150, 151, 152, 153, 154, 155, 156, 157, 158, 159, 160, 161, 162, 163, 164, 165, 166, 167, 168, 169, 170, 171, 172, 173, 174, 175, 176, 177, 178, 179, 180, 181, 182, 183, 184, 185, 186, 187, 188, 189, 190, 191, 192, 193, 194, 195, 196, 197, 198, 199, 200, 201, 202, 203, 204, 205, 206, 207, 208, 209, 210, 211, 212, 213, 214, 215, 216, 217, 218, 219, 220, 221, 222, 223, 224, 225, 226, 227, 228, 229, 230, 231, 232, 233, 234, 235, 236, 237, 238, 239, 240, 241, 242, 243, 244, 245, 246, ...], 2009: [786, 787, 788, 789, 790, 791, 792, 793, 794, 795, 796, 797, 798, 799, 800, 801, 802, 803, 804, 805, 806, 807, 808, 809, 810, 811, 812, 813, 814, 815, 816, 817, 818, 819, 820, 821, 822, 823, 824, 825, 826, 827, 828, 829, 830, 831, 832, 833, 834, 835, 836, 837, 838, 839, 840, 841, 842, 843, 844, 845, 846, 847, 848, 849, 850, 851, 852, 853, 854, 855, 856, 857, 858, 859, 860, 861, 862, 863, 864, 865, 866, 867, 868, 869, 870, 871, 872, 873, 874, 875, 876, 877, 878, 879, 880, 881, 882, 883, 884, 885, ...], 2010: [2212, 2213, 2214, 2215, 2216, 2217, 2218, 2219, 2220, 2221, 2222, 2223, 2224, 2225, 2226, 2227, 2228, 2229, 2230, 2231, 2232, 2233, 2234, 2235, 2236, 2237, 2238, 2239, 2240, 2241, 2242, 2243, 2244, 2245, 2246, 2247, 2248, 2249, 2250, 2251, 2252, 2253, 2254, 2255, 2256, 2257, 2258, 2259, 2260, 2261, 2262, 2263, 2264, 2265, 2266, 2267, 2268, 2269, 2270, 2271, 2272, 2273, 2274, 2275, 2276, 2277, 2278, 2279, 2280, 2281, 2282, 2283, 2284, 2285, 2286, 2287, 2288, 2289, 2290, 2291, 2292, 2293, 2294, 2295, 2296, 2297, 2298, 2299, 2300, 2301, 2302, 2303, 2304, 2305, 2306, 2307, 2308, 2309, 2310, 2311, ...], 2011: [3767, 3768, 3769, 3770, 3771, 3772, 3773, 3774, 3775, 3776, 3777, 3778, 3779, 3780, 3781, 3782, 3783, 3784, 3785, 3786, 3787, 3788, 3789, 3790, 3791, 3792, 3793, 3794, 3795, 3796, 3797, 3798, 3799, 3800, 3801, 3802, 3803, 3804, 3805, 3806, 3807, 3808, 3809, 3810, 3811, 3812, 3813, 3814, 3815, 3816, 3817, 3818, 3819, 3820, 3821, 3822, 3823, 3824, 3825, 3826, 3827, 3828, 3829, 3830, 3831, 3832, 3833, 3834, 3835, 3836, 3837, 3838, 3839, 3840, 3841, 3842, 3843, 3844, 3845, 3846, 3847, 3848, 3849, 3850, 3851, 3852, 3853, 3854, 3855, 3856, 3857, 3858, 3859, 3860, 3861, 3862, 3863, 3864, 3865, 3866, ...], 2012: [5400, 5401, 5402, 5403, 5404, 5405, 5406, 5407, 5408, 5409, 5410, 5411, 5412, 5413, 5414, 5415, 5416, 5417, 5418, 5419, 5420, 5421, 5422, 5423, 5424, 5425, 5426, 5427, 5428, 5429, 5430, 5431, 5432, 5433, 5434, 5435, 5436, 5437, 5438, 5439, 5440, 5441, 5442, 5443, 5444, 5445, 5446, 5447, 5448, 5449, 5450, 5451, 5452, 5453, 5454, 5455, 5456, 5457, 5458, 5459, 5460, 5461, 5462, 5463, 5464, 5465, 5466, 5467, 5468, 5469, 5470, 5471, 5472, 5473, 5474, 5475, 5476, 5477, 5478, 5479, 5480, 5481, 5482, 5483, 5484, 5485, 5486, 5487, 5488, 5489, 5490, 5491, 5492, 5493, 5494, 5495, 5496, 5497, 5498, 5499, ...], 2013: [7258, 7259, 7260, 7261, 7262, 7263, 7264, 7265, 7266, 7267, 7268, 7269, 7270, 7271, 7272, 7273, 7274, 7275, 7276, 7277, 7278, 7279, 7280, 7281, 7282, 7283, 7284, 7285, 7286, 7287, 7288, 7289, 7290, 7291, 7292, 7293, 7294, 7295, 7296, 7297, 7298, 7299, 7300, 7301, 7302, 7303, 7304, 7305, 7306, 7307, 7308, 7309, 7310, 7311, 7312, 7313, 7314, 7315, 7316, 7317, 7318, 7319, 7320, 7321, 7322, 7323, 7324, 7325, 7326, 7327, 7328, 7329, 7330, 7331, 7332, 7333, 7334, 7335, 7336, 7337, 7338, 7339, 7340, 7341, 7342, 7343, 7344, 7345, 7346, 7347, 7348, 7349, 7350, 7351, 7352, 7353, 7354, 7355, 7356, 7357, ...], 2014: [9377, 9378, 9379, 9380, 9381, 9382, 9383, 9384, 9385, 9386, 9387, 9388, 9389, 9390, 9391, 9392, 9393, 9394, 9395, 9396, 9397, 9398, 9399, 9400, 9401, 9402, 9403, 9404, 9405, 9406, 9407, 9408, 9409, 9410, 9411, 9412, 9413, 9414, 9415, 9416, 9417, 9418, 9419, 9420, 9421, 9422, 9423, 9424, 9425, 9426, 9427, 9428, 9429, 9430, 9431, 9432, 9433, 9434, 9435, 9436, 9437, 9438, 9439, 9440, 9441, 9442, 9443, 9444, 9445, 9446, 9447, 9448, 9449, 9450, 9451, 9452, 9453, 9454, 9455, 9456, 9457, 9458, 9459, 9460, 9461, 9462, 9463, 9464, 9465, 9466, 9467, 9468, 9469, 9470, 9471, 9472, 9473, 9474, 9475, 9476, ...], 2015: [12240, 12241, 12242, 12243, 12244, 12245, 12246, 12247, 12248, 12249, 12250, 12251, 12252, 12253, 12254, 12255, 12256, 12257, 12258, 12259, 12260, 12261, 12262, 12263, 12264, 12265, 12266, 12267, 12268, 12269, 12270, 12271, 12272, 12273, 12274, 12275, 12276, 12277, 12278, 12279, 12280, 12281, 12282, 12283, 12284, 12285, 12286, 12287, 12288, 12289, 12290, 12291, 12292, 12293, 12294, 12295, 12296, 12297, 12298, 12299, 12300, 12301, 12302, 12303, 12304, 12305, 12306, 12307, 12308, 12309, 12310, 12311, 12312, 12313, 12314, 12315, 12316, 12317, 12318, 12319, 12320, 12321, 12322, 12323, 12324, 12325, 12326, 12327, 12328, 12329, 12330, 12331, 12332, 12333, 12334, 12335, 12336, 12337, 12338, 12339, ...], 2016: [15888, 15889, 15890, 15891, 15892, 15893, 15894, 15895, 15896, 15897, 15898, 15899, 15900, 15901, 15902, 15903, 15904, 15905, 15906, 15907, 15908, 15909, 15910, 15911, 15912, 15913, 15914, 15915, 15916, 15917, 15918, 15919, 15920, 15921, 15922, 15923, 15924, 15925, 15926, 15927, 15928, 15929, 15930, 15931, 15932, 15933, 15934, 15935, 15936, 15937, 15938, 15939, 15940, 15941, 15942, 15943, 15944, 15945, 15946, 15947, 15948, 15949, 15950, 15951, 15952, 15953, 15954, 15955, 15956, 15957, 15958, 15959, 15960, 15961, 15962, 15963, 15964, 15965, 15966, 15967, 15968, 15969, 15970, 15971, 15972, 15973, 15974, 15975, 15976, 15977, 15978, 15979, 15980, 15981, 15982, 15983, 15984, 15985, 15986, 15987, ...], 2017: [19796, 19797, 19798, 19799, 19800, 19801, 19802, 19803, 19804, 19805, 19806, 19807, 19808, 19809, 19810, 19811, 19812, 19813, 19814, 19815, 19816, 19817, 19818, 19819, 19820, 19821, 19822, 19823, 19824, 19825, 19826, 19827, 19828, 19829, 19830, 19831, 19832, 19833, 19834, 19835, 19836, 19837, 19838, 19839, 19840, 19841, 19842, 19843, 19844, 19845, 19846, 19847, 19848, 19849, 19850, 19851, 19852, 19853, 19854, 19855, 19856, 19857, 19858, 19859, 19860, 19861, 19862, 19863, 19864, 19865, 19866, 19867, 19868, 19869, 19870, 19871, 19872, 19873, 19874, 19875, 19876, 19877, 19878, 19879, 19880, 19881, 19882, 19883, 19884, 19885, 19886, 19887, 19888, 19889, 19890, 19891, 19892, 19893, 19894, 19895, ...], 2018: [24337, 24338, 24339, 24340, 24341, 24342, 24343, 24344, 24345, 24346, 24347, 24348, 24349, 24350, 24351, 24352, 24353, 24354, 24355, 24356, 24357, 24358, 24359, 24360, 24361, 24362, 24363, 24364, 24365, 24366, 24367, 24368, 24369, 24370, 24371, 24372, 24373, 24374, 24375, 24376, 24377, 24378, 24379, 24380, 24381, 24382, 24383, 24384, 24385, 24386, 24387, 24388, 24389, 24390, 24391, 24392, 24393, 24394, 24395, 24396, 24397, 24398, 24399, 24400, 24401, 24402, 24403, 24404, 24405, 24406, 24407, 24408, 24409, 24410, 24411, 24412, 24413, 24414, 24415, 24416, 24417, 24418, 24419, 24420, 24421, 24422, 24423, 24424, 24425, 24426, 24427, 24428, 24429, 24430, 24431, 24432, 24433, 24434, 24435, 24436, ...]}"
      ]
     },
     "execution_count": 21,
     "metadata": {},
     "output_type": "execute_result"
    }
   ],
   "source": [
    "hps_y.groups"
   ]
  },
  {
   "cell_type": "code",
   "execution_count": 23,
   "id": "9059e009",
   "metadata": {},
   "outputs": [
    {
     "data": {
      "text/plain": [
       "{0: [493, 6581, 7382, 7399, 7627, 7898, 8188, 8316, 8513, 9414, 11994, 12312, 12344, 13168, 13627, 13718, 15080, 16458, 16465, 18659, 18992, 19104, 19892, 21384, 22574, 22974, 26796, 26868], 1: [21, 85, 93, 120, 141, 155, 156, 209, 254, 370, 392, 443, 460, 496, 509, 597, 624, 669, 671, 731, 787, 872, 902, 986, 989, 991, 1014, 1099, 1110, 1148, 1149, 1229, 1230, 1251, 1280, 1321, 1327, 1342, 1409, 1411, 1445, 1468, 1493, 1512, 1513, 1533, 1551, 1587, 1623, 1639, 1716, 1818, 1832, 1845, 1901, 1919, 1933, 1947, 2000, 2036, 2060, 2061, 2087, 2128, 2157, 2169, 2174, 2178, 2199, 2222, 2232, 2260, 2276, 2324, 2429, 2491, 2500, 2539, 2544, 2579, 2604, 2622, 2648, 2730, 2777, 2848, 2869, 2870, 2921, 2959, 2968, 3009, 3049, 3073, 3078, 3091, 3118, 3140, 3145, 3146, ...], 2: [13, 18, 29, 51, 54, 60, 62, 74, 76, 77, 79, 84, 104, 106, 137, 140, 147, 151, 178, 186, 192, 215, 218, 222, 232, 259, 265, 268, 274, 286, 320, 325, 327, 366, 373, 379, 390, 416, 426, 428, 434, 435, 437, 447, 448, 452, 461, 469, 472, 481, 497, 504, 510, 518, 528, 540, 549, 555, 568, 596, 615, 618, 644, 670, 674, 702, 709, 723, 724, 761, 773, 774, 785, 786, 790, 792, 800, 810, 821, 854, 864, 865, 871, 877, 878, 884, 886, 887, 891, 892, 909, 910, 915, 916, 917, 926, 927, 939, 940, 954, ...], 3: [1, 2, 4, 6, 8, 9, 10, 11, 17, 22, 23, 24, 25, 26, 27, 31, 33, 35, 36, 38, 39, 40, 41, 42, 43, 46, 53, 55, 56, 58, 61, 65, 67, 68, 78, 80, 81, 86, 87, 91, 92, 98, 102, 103, 108, 109, 110, 112, 113, 117, 118, 119, 121, 122, 123, 125, 126, 128, 129, 130, 131, 134, 138, 142, 144, 145, 146, 148, 160, 162, 163, 164, 165, 166, 167, 168, 173, 183, 185, 189, 190, 194, 195, 196, 197, 199, 204, 207, 210, 213, 219, 220, 223, 224, 225, 228, 229, 231, 233, 236, ...], 4: [0, 3, 5, 7, 12, 14, 15, 20, 28, 30, 32, 34, 44, 45, 48, 49, 50, 52, 57, 59, 63, 64, 66, 70, 71, 72, 73, 75, 82, 83, 89, 90, 94, 96, 99, 100, 105, 107, 111, 114, 115, 116, 127, 132, 133, 135, 136, 139, 143, 149, 150, 152, 153, 154, 157, 158, 159, 161, 169, 170, 171, 172, 175, 177, 180, 182, 184, 187, 188, 191, 193, 198, 201, 202, 206, 208, 211, 212, 214, 216, 217, 227, 230, 234, 235, 240, 241, 244, 245, 248, 249, 251, 252, 255, 257, 262, 263, 264, 267, 270, ...], 5: [16, 19, 37, 47, 69, 88, 95, 97, 101, 124, 174, 176, 179, 181, 200, 203, 205, 221, 226, 250, 266, 334, 352, 356, 385, 391, 402, 427, 522, 551, 553, 611, 614, 616, 621, 659, 678, 712, 745, 752, 809, 852, 875, 899, 953, 960, 977, 982, 983, 985, 1009, 1018, 1060, 1062, 1065, 1096, 1098, 1116, 1144, 1154, 1183, 1193, 1194, 1213, 1277, 1286, 1287, 1310, 1354, 1367, 1379, 1402, 1452, 1460, 1511, 1524, 1547, 1596, 1606, 1622, 1650, 1715, 1742, 1747, 1753, 1797, 1814, 1821, 1824, 1844, 1913, 1918, 1924, 1950, 1953, 1978, 2008, 2018, 2042, 2047, ...]}"
      ]
     },
     "execution_count": 23,
     "metadata": {},
     "output_type": "execute_result"
    }
   ],
   "source": [
    "#Group the dataset by number of bedrooms\n",
    "hps_b.groups"
   ]
  },
  {
   "cell_type": "code",
   "execution_count": 24,
   "id": "8cbbc82e",
   "metadata": {},
   "outputs": [
    {
     "data": {
      "text/plain": [
       "{'house': [0, 1, 2, 3, 4, 5, 6, 7, 8, 9, 10, 11, 12, 14, 15, 16, 17, 19, 20, 21, 22, 23, 24, 25, 27, 28, 30, 31, 32, 33, 34, 35, 36, 37, 40, 41, 42, 43, 44, 45, 46, 47, 48, 49, 50, 51, 52, 53, 54, 55, 56, 57, 58, 59, 61, 63, 64, 65, 66, 67, 69, 70, 71, 72, 73, 75, 78, 80, 81, 82, 83, 85, 86, 87, 88, 89, 90, 91, 92, 93, 94, 95, 96, 97, 98, 99, 100, 101, 102, 103, 104, 105, 106, 107, 108, 109, 110, 111, 112, 113, ...], 'unit': [13, 18, 26, 29, 38, 39, 60, 62, 68, 74, 76, 77, 79, 84, 140, 141, 146, 155, 186, 192, 232, 254, 259, 268, 286, 287, 366, 370, 379, 392, 428, 435, 437, 443, 447, 448, 452, 460, 461, 472, 493, 496, 497, 504, 509, 510, 528, 549, 555, 565, 596, 597, 624, 644, 669, 670, 671, 724, 725, 731, 761, 773, 784, 785, 786, 787, 790, 792, 797, 810, 835, 848, 854, 864, 865, 871, 872, 877, 886, 887, 891, 892, 902, 908, 909, 910, 915, 916, 917, 926, 927, 934, 939, 940, 954, 955, 966, 974, 979, 986, ...]}"
      ]
     },
     "execution_count": 24,
     "metadata": {},
     "output_type": "execute_result"
    }
   ],
   "source": [
    "#Group the dataset by property type\n",
    "hps_t.groups"
   ]
  },
  {
   "cell_type": "code",
   "execution_count": 26,
   "id": "3c0beae5",
   "metadata": {},
   "outputs": [],
   "source": [
    "#Find the cheapest house sale in 2010\n",
    "house = hps_t.get_group('house')"
   ]
  },
  {
   "cell_type": "code",
   "execution_count": 28,
   "id": "3b89f368",
   "metadata": {},
   "outputs": [],
   "source": [
    "house_year = house.groupby('Year')"
   ]
  },
  {
   "cell_type": "code",
   "execution_count": 29,
   "id": "1d0cbe02",
   "metadata": {},
   "outputs": [],
   "source": [
    "h_2010 = house_year.get_group(2010)"
   ]
  },
  {
   "cell_type": "code",
   "execution_count": 33,
   "id": "4b2b1681",
   "metadata": {},
   "outputs": [
    {
     "data": {
      "text/html": [
       "<div>\n",
       "<style scoped>\n",
       "    .dataframe tbody tr th:only-of-type {\n",
       "        vertical-align: middle;\n",
       "    }\n",
       "\n",
       "    .dataframe tbody tr th {\n",
       "        vertical-align: top;\n",
       "    }\n",
       "\n",
       "    .dataframe thead th {\n",
       "        text-align: right;\n",
       "    }\n",
       "</style>\n",
       "<table border=\"1\" class=\"dataframe\">\n",
       "  <thead>\n",
       "    <tr style=\"text-align: right;\">\n",
       "      <th></th>\n",
       "      <th>Datesold</th>\n",
       "      <th>Postcode</th>\n",
       "      <th>Price</th>\n",
       "      <th>Property Type</th>\n",
       "      <th>Bedrooms</th>\n",
       "      <th>Year</th>\n",
       "    </tr>\n",
       "  </thead>\n",
       "  <tbody>\n",
       "    <tr>\n",
       "      <th>3262</th>\n",
       "      <td>21/09/2010 00:00</td>\n",
       "      <td>2606</td>\n",
       "      <td>110000</td>\n",
       "      <td>house</td>\n",
       "      <td>4</td>\n",
       "      <td>2010</td>\n",
       "    </tr>\n",
       "  </tbody>\n",
       "</table>\n",
       "</div>"
      ],
      "text/plain": [
       "              Datesold  Postcode   Price Property Type  Bedrooms  Year\n",
       "3262  21/09/2010 00:00      2606  110000         house         4  2010"
      ]
     },
     "execution_count": 33,
     "metadata": {},
     "output_type": "execute_result"
    }
   ],
   "source": [
    "h_2010[h_2010['Price'].min() == h_2010['Price']]"
   ]
  },
  {
   "cell_type": "code",
   "execution_count": 34,
   "id": "57dcd7e0",
   "metadata": {},
   "outputs": [],
   "source": [
    "#Find the most expensive house sale in 2017\n",
    "h_2017 = house_year.get_group(2017)"
   ]
  },
  {
   "cell_type": "code",
   "execution_count": 35,
   "id": "ba75ce88",
   "metadata": {},
   "outputs": [
    {
     "data": {
      "text/html": [
       "<div>\n",
       "<style scoped>\n",
       "    .dataframe tbody tr th:only-of-type {\n",
       "        vertical-align: middle;\n",
       "    }\n",
       "\n",
       "    .dataframe tbody tr th {\n",
       "        vertical-align: top;\n",
       "    }\n",
       "\n",
       "    .dataframe thead th {\n",
       "        text-align: right;\n",
       "    }\n",
       "</style>\n",
       "<table border=\"1\" class=\"dataframe\">\n",
       "  <thead>\n",
       "    <tr style=\"text-align: right;\">\n",
       "      <th></th>\n",
       "      <th>Datesold</th>\n",
       "      <th>Postcode</th>\n",
       "      <th>Price</th>\n",
       "      <th>Property Type</th>\n",
       "      <th>Bedrooms</th>\n",
       "      <th>Year</th>\n",
       "    </tr>\n",
       "  </thead>\n",
       "  <tbody>\n",
       "    <tr>\n",
       "      <th>23800</th>\n",
       "      <td>21/11/2017 00:00</td>\n",
       "      <td>2603</td>\n",
       "      <td>4700000</td>\n",
       "      <td>house</td>\n",
       "      <td>4</td>\n",
       "      <td>2017</td>\n",
       "    </tr>\n",
       "  </tbody>\n",
       "</table>\n",
       "</div>"
      ],
      "text/plain": [
       "               Datesold  Postcode    Price Property Type  Bedrooms  Year\n",
       "23800  21/11/2017 00:00      2603  4700000         house         4  2017"
      ]
     },
     "execution_count": 35,
     "metadata": {},
     "output_type": "execute_result"
    }
   ],
   "source": [
    "h_2017[h_2017['Price'].max() == h_2017['Price']]"
   ]
  },
  {
   "cell_type": "code",
   "execution_count": 36,
   "id": "fa9816e8",
   "metadata": {},
   "outputs": [],
   "source": [
    "#Find the most expensive house with 5 bedrooms\n",
    "house_bed = house.groupby('Bedrooms')"
   ]
  },
  {
   "cell_type": "code",
   "execution_count": 37,
   "id": "9a104414",
   "metadata": {},
   "outputs": [],
   "source": [
    "bed_5 = house_bed.get_group(5)"
   ]
  },
  {
   "cell_type": "code",
   "execution_count": 38,
   "id": "5556e538",
   "metadata": {},
   "outputs": [
    {
     "data": {
      "text/html": [
       "<div>\n",
       "<style scoped>\n",
       "    .dataframe tbody tr th:only-of-type {\n",
       "        vertical-align: middle;\n",
       "    }\n",
       "\n",
       "    .dataframe tbody tr th {\n",
       "        vertical-align: top;\n",
       "    }\n",
       "\n",
       "    .dataframe thead th {\n",
       "        text-align: right;\n",
       "    }\n",
       "</style>\n",
       "<table border=\"1\" class=\"dataframe\">\n",
       "  <thead>\n",
       "    <tr style=\"text-align: right;\">\n",
       "      <th></th>\n",
       "      <th>Datesold</th>\n",
       "      <th>Postcode</th>\n",
       "      <th>Price</th>\n",
       "      <th>Property Type</th>\n",
       "      <th>Bedrooms</th>\n",
       "      <th>Year</th>\n",
       "    </tr>\n",
       "  </thead>\n",
       "  <tbody>\n",
       "    <tr>\n",
       "      <th>2589</th>\n",
       "      <td>22/04/2010 00:00</td>\n",
       "      <td>2603</td>\n",
       "      <td>7300000</td>\n",
       "      <td>house</td>\n",
       "      <td>5</td>\n",
       "      <td>2010</td>\n",
       "    </tr>\n",
       "  </tbody>\n",
       "</table>\n",
       "</div>"
      ],
      "text/plain": [
       "              Datesold  Postcode    Price Property Type  Bedrooms  Year\n",
       "2589  22/04/2010 00:00      2603  7300000         house         5  2010"
      ]
     },
     "execution_count": 38,
     "metadata": {},
     "output_type": "execute_result"
    }
   ],
   "source": [
    "bed_5[bed_5['Price'].max() == bed_5['Price']]"
   ]
  },
  {
   "cell_type": "raw",
   "id": "f901b3a5",
   "metadata": {},
   "source": [
    "#Find the cheapest unit\n",
    "(hps.groupby(\"Property Type\").get_group('unit'))[((hps.groupby(\"Property Type\")).get_group(\"unit\"))['Price'].min()==hps['Price']]"
   ]
  },
  {
   "cell_type": "code",
   "execution_count": 49,
   "id": "b21588b0",
   "metadata": {},
   "outputs": [],
   "source": [
    "#Find the cheapest unit in 2008\n",
    "filter_unit = (hps_y.get_group(2008))['Price'].min()"
   ]
  },
  {
   "cell_type": "code",
   "execution_count": 50,
   "id": "8bdd82f8",
   "metadata": {},
   "outputs": [
    {
     "data": {
      "text/plain": [
       "90000"
      ]
     },
     "execution_count": 50,
     "metadata": {},
     "output_type": "execute_result"
    }
   ],
   "source": [
    "filter_unit"
   ]
  },
  {
   "cell_type": "code",
   "execution_count": 54,
   "id": "021b69bf",
   "metadata": {},
   "outputs": [
    {
     "name": "stderr",
     "output_type": "stream",
     "text": [
      "<ipython-input-54-3bd0dce6ed0f>:1: UserWarning: Boolean Series key will be reindexed to match DataFrame index.\n",
      "  hps.groupby(\"Property Type\").get_group(\"unit\")[filter_unit == hps[\"Price\"]]\n"
     ]
    },
    {
     "data": {
      "text/html": [
       "<div>\n",
       "<style scoped>\n",
       "    .dataframe tbody tr th:only-of-type {\n",
       "        vertical-align: middle;\n",
       "    }\n",
       "\n",
       "    .dataframe tbody tr th {\n",
       "        vertical-align: top;\n",
       "    }\n",
       "\n",
       "    .dataframe thead th {\n",
       "        text-align: right;\n",
       "    }\n",
       "</style>\n",
       "<table border=\"1\" class=\"dataframe\">\n",
       "  <thead>\n",
       "    <tr style=\"text-align: right;\">\n",
       "      <th></th>\n",
       "      <th>Datesold</th>\n",
       "      <th>Postcode</th>\n",
       "      <th>Price</th>\n",
       "      <th>Property Type</th>\n",
       "      <th>Bedrooms</th>\n",
       "      <th>Year</th>\n",
       "    </tr>\n",
       "  </thead>\n",
       "  <tbody>\n",
       "    <tr>\n",
       "      <th>493</th>\n",
       "      <td>21/10/2008 00:00</td>\n",
       "      <td>2612</td>\n",
       "      <td>90000</td>\n",
       "      <td>unit</td>\n",
       "      <td>0</td>\n",
       "      <td>2008</td>\n",
       "    </tr>\n",
       "  </tbody>\n",
       "</table>\n",
       "</div>"
      ],
      "text/plain": [
       "             Datesold  Postcode  Price Property Type  Bedrooms  Year\n",
       "493  21/10/2008 00:00      2612  90000          unit         0  2008"
      ]
     },
     "execution_count": 54,
     "metadata": {},
     "output_type": "execute_result"
    }
   ],
   "source": [
    "hps.groupby(\"Property Type\").get_group(\"unit\")[filter_unit == hps[\"Price\"]]"
   ]
  },
  {
   "cell_type": "code",
   "execution_count": 56,
   "id": "eb4028be",
   "metadata": {},
   "outputs": [
    {
     "data": {
      "text/plain": [
       "661248.3653410928"
      ]
     },
     "execution_count": 56,
     "metadata": {},
     "output_type": "execute_result"
    }
   ],
   "source": [
    "#Find the average house price in 2015\n",
    "hps.groupby(\"Property Type\").get_group(\"house\").groupby(\"Year\").get_group(2015)[\"Price\"].mean()"
   ]
  },
  {
   "cell_type": "code",
   "execution_count": 57,
   "id": "36aa80fd",
   "metadata": {},
   "outputs": [
    {
     "data": {
      "text/plain": [
       "2185322379"
      ]
     },
     "execution_count": 57,
     "metadata": {},
     "output_type": "execute_result"
    }
   ],
   "source": [
    "#Find the total amount of unit sales in 2016\n",
    "hps.groupby('Property Type').get_group(\"house\").groupby(\"Year\").get_group(2016)['Price'].sum()"
   ]
  },
  {
   "cell_type": "code",
   "execution_count": 59,
   "id": "b9817f04",
   "metadata": {},
   "outputs": [],
   "source": [
    "#Find the cheapest house sales at 2617\n",
    "filter_post = hps.groupby('Postcode').get_group(2617).groupby(\"Property Type\").get_group('house')[\"Price\"].min()"
   ]
  },
  {
   "cell_type": "code",
   "execution_count": 61,
   "id": "b21471b4",
   "metadata": {},
   "outputs": [],
   "source": [
    "house_group = hps.groupby('Property Type').get_group(\"house\")"
   ]
  },
  {
   "cell_type": "code",
   "execution_count": 62,
   "id": "c9294126",
   "metadata": {},
   "outputs": [
    {
     "name": "stderr",
     "output_type": "stream",
     "text": [
      "<ipython-input-62-03b737d239ee>:1: UserWarning: Boolean Series key will be reindexed to match DataFrame index.\n",
      "  house_group[filter_post == hps['Price']]\n"
     ]
    },
    {
     "data": {
      "text/html": [
       "<div>\n",
       "<style scoped>\n",
       "    .dataframe tbody tr th:only-of-type {\n",
       "        vertical-align: middle;\n",
       "    }\n",
       "\n",
       "    .dataframe tbody tr th {\n",
       "        vertical-align: top;\n",
       "    }\n",
       "\n",
       "    .dataframe thead th {\n",
       "        text-align: right;\n",
       "    }\n",
       "</style>\n",
       "<table border=\"1\" class=\"dataframe\">\n",
       "  <thead>\n",
       "    <tr style=\"text-align: right;\">\n",
       "      <th></th>\n",
       "      <th>Datesold</th>\n",
       "      <th>Postcode</th>\n",
       "      <th>Price</th>\n",
       "      <th>Property Type</th>\n",
       "      <th>Bedrooms</th>\n",
       "      <th>Year</th>\n",
       "    </tr>\n",
       "  </thead>\n",
       "  <tbody>\n",
       "    <tr>\n",
       "      <th>18279</th>\n",
       "      <td>30/08/2016 00:00</td>\n",
       "      <td>2617</td>\n",
       "      <td>240000</td>\n",
       "      <td>house</td>\n",
       "      <td>1</td>\n",
       "      <td>2016</td>\n",
       "    </tr>\n",
       "    <tr>\n",
       "      <th>23936</th>\n",
       "      <td>30/11/2017 00:00</td>\n",
       "      <td>2605</td>\n",
       "      <td>240000</td>\n",
       "      <td>house</td>\n",
       "      <td>1</td>\n",
       "      <td>2017</td>\n",
       "    </tr>\n",
       "  </tbody>\n",
       "</table>\n",
       "</div>"
      ],
      "text/plain": [
       "               Datesold  Postcode   Price Property Type  Bedrooms  Year\n",
       "18279  30/08/2016 00:00      2617  240000         house         1  2016\n",
       "23936  30/11/2017 00:00      2605  240000         house         1  2017"
      ]
     },
     "execution_count": 62,
     "metadata": {},
     "output_type": "execute_result"
    }
   ],
   "source": [
    "house_group[filter_post == hps['Price']]"
   ]
  },
  {
   "cell_type": "code",
   "execution_count": 70,
   "id": "f4136be6",
   "metadata": {},
   "outputs": [
    {
     "data": {
      "image/png": "[encoded data removed]",
      "text/plain": [
       "<Figure size 1008x576 with 1 Axes>"
      ]
     },
     "metadata": {},
     "output_type": "display_data"
    }
   ],
   "source": [
    "#Create a pie chart that shows the distribution of sales by bedrooms number.\n",
    "bedroom = hps.groupby(\"Property Type\").get_group(\"house\").groupby(\"Bedrooms\")\n",
    "labels = ['Zero','One','Two','Three','Four','Five']\n",
    "counts = [len(bedroom.get_group(0)), len(bedroom.get_group(1)),len(bedroom.get_group(2)),len(bedroom.get_group(3)),\n",
    "          len(bedroom.get_group(4)),len(bedroom.get_group(5))]\n",
    "\n",
    "Figure, Axes = plt.subplots(figsize = (14,8))\n",
    "Axes.pie(counts,labels = labels, autopct = \"%1.1f%%\",explode = (0.1,0.3,0.1,0.1,0.1,0.1))\n",
    "Axes.legend()\n",
    "plt.show()"
   ]
  },
  {
   "cell_type": "code",
   "execution_count": 72,
   "id": "116f4735",
   "metadata": {},
   "outputs": [
    {
     "data": {
      "image/png": "[encoded data removed]",
      "text/plain": [
       "<Figure size 1008x432 with 4 Axes>"
      ]
     },
     "metadata": {
      "needs_background": "light"
     },
     "output_type": "display_data"
    }
   ],
   "source": [
    "#Create a histogram that shows the Sales dataset\n",
    "histogram = hps.hist(figsize = (14,6))"
   ]
  }
 ],
 "metadata": {
  "kernelspec": {
   "display_name": "Python 3",
   "language": "python",
   "name": "python3"
  },
  "language_info": {
   "codemirror_mode": {
    "name": "ipython",
    "version": 3
   },
   "file_extension": ".py",
   "mimetype": "text/x-python",
   "name": "python",
   "nbconvert_exporter": "python",
   "pygments_lexer": "ipython3",
   "version": "3.8.8"
  }
 },
 "nbformat": 4,
 "nbformat_minor": 5
}
