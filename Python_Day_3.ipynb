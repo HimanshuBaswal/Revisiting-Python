{
  "nbformat": 4,
  "nbformat_minor": 0,
  "metadata": {
    "colab": {
      "name": "Python_Day_3.ipynb",
      "provenance": [],
      "collapsed_sections": []
    },
    "kernelspec": {
      "name": "python3",
      "display_name": "Python 3"
    },
    "language_info": {
      "name": "python"
    }
  },
  "cells": [
    {
      "cell_type": "markdown",
      "metadata": {
        "id": "fSN8xVQ0qKHF"
      },
      "source": [
        "##Numpy "
      ]
    },
    {
      "cell_type": "code",
      "metadata": {
        "id": "B8g6Ec-DnlQI"
      },
      "source": [
        "import numpy as np"
      ],
      "execution_count": 1,
      "outputs": []
    },
    {
      "cell_type": "code",
      "metadata": {
        "id": "x3xAx9qXpTW3"
      },
      "source": [
        "N_array = np.array( [ [1,2,3,2],[5,6,7,8] ] )"
      ],
      "execution_count": 12,
      "outputs": []
    },
    {
      "cell_type": "code",
      "metadata": {
        "colab": {
          "base_uri": "https://localhost:8080/"
        },
        "id": "GAq2CoDapcW1",
        "outputId": "7e92fc35-dd06-4697-8b9c-3899daaa9f98"
      },
      "source": [
        "N_array"
      ],
      "execution_count": 13,
      "outputs": [
        {
          "output_type": "execute_result",
          "data": {
            "text/plain": [
              "array([[1, 2, 3, 2],\n",
              "       [5, 6, 7, 8]])"
            ]
          },
          "metadata": {},
          "execution_count": 13
        }
      ]
    },
    {
      "cell_type": "code",
      "metadata": {
        "id": "DleAQsgJpm_z"
      },
      "source": [
        "N_array_1 = np.array([[2,4,16],[9,8,15]])"
      ],
      "execution_count": 8,
      "outputs": []
    },
    {
      "cell_type": "code",
      "metadata": {
        "colab": {
          "base_uri": "https://localhost:8080/"
        },
        "id": "pLQZkon_pwVy",
        "outputId": "2b7f7278-e42d-4be1-acbf-b90e5f2d5739"
      },
      "source": [
        "N_array_1"
      ],
      "execution_count": 9,
      "outputs": [
        {
          "output_type": "execute_result",
          "data": {
            "text/plain": [
              "array([[ 2,  4, 16],\n",
              "       [ 9,  8, 15]])"
            ]
          },
          "metadata": {},
          "execution_count": 9
        }
      ]
    },
    {
      "cell_type": "markdown",
      "metadata": {
        "id": "IMjNhTl7qMSY"
      },
      "source": [
        "###Array and Features"
      ]
    },
    {
      "cell_type": "code",
      "metadata": {
        "id": "nNqtGx1BpzWZ"
      },
      "source": [
        "int = np.array([[1,2,3 ,4],[5,6,7, 13]])"
      ],
      "execution_count": 14,
      "outputs": []
    },
    {
      "cell_type": "code",
      "metadata": {
        "colab": {
          "base_uri": "https://localhost:8080/"
        },
        "id": "qVXnMBB_qZ9J",
        "outputId": "c580c7e0-28ba-440b-d5cd-99c0157730d6"
      },
      "source": [
        "int"
      ],
      "execution_count": 15,
      "outputs": [
        {
          "output_type": "execute_result",
          "data": {
            "text/plain": [
              "array([[ 1,  2,  3,  4],\n",
              "       [ 5,  6,  7, 13]])"
            ]
          },
          "metadata": {},
          "execution_count": 15
        }
      ]
    },
    {
      "cell_type": "code",
      "metadata": {
        "id": "1Vfhu3rwqabE"
      },
      "source": [
        "floats = np.array([0.0, 0.10,0.12,0.3,0.5 ,0.63])"
      ],
      "execution_count": 28,
      "outputs": []
    },
    {
      "cell_type": "code",
      "metadata": {
        "colab": {
          "base_uri": "https://localhost:8080/"
        },
        "id": "eW8vZ0o1qicF",
        "outputId": "714454fc-2f3a-4835-b293-4e13e5abedd3"
      },
      "source": [
        "floats"
      ],
      "execution_count": 29,
      "outputs": [
        {
          "output_type": "execute_result",
          "data": {
            "text/plain": [
              "array([0.  , 0.1 , 0.12, 0.3 , 0.5 , 0.63])"
            ]
          },
          "metadata": {},
          "execution_count": 29
        }
      ]
    },
    {
      "cell_type": "code",
      "metadata": {
        "colab": {
          "base_uri": "https://localhost:8080/"
        },
        "id": "krEIRWe4qj28",
        "outputId": "55ed96c5-9089-4996-a8ac-5efe94d871c6"
      },
      "source": [
        "int.ndim"
      ],
      "execution_count": 30,
      "outputs": [
        {
          "output_type": "execute_result",
          "data": {
            "text/plain": [
              "2"
            ]
          },
          "metadata": {},
          "execution_count": 30
        }
      ]
    },
    {
      "cell_type": "code",
      "metadata": {
        "colab": {
          "base_uri": "https://localhost:8080/"
        },
        "id": "7_8fz0WxqpYJ",
        "outputId": "1fc0e1b8-dfb3-4f60-c4a3-660d13b849f0"
      },
      "source": [
        " floats.ndim"
      ],
      "execution_count": 31,
      "outputs": [
        {
          "output_type": "execute_result",
          "data": {
            "text/plain": [
              "1"
            ]
          },
          "metadata": {},
          "execution_count": 31
        }
      ]
    },
    {
      "cell_type": "code",
      "metadata": {
        "colab": {
          "base_uri": "https://localhost:8080/"
        },
        "id": "177G7hswqsYW",
        "outputId": "d5a2b311-2a2f-4889-e508-281f0295fa80"
      },
      "source": [
        "int.shape"
      ],
      "execution_count": 32,
      "outputs": [
        {
          "output_type": "execute_result",
          "data": {
            "text/plain": [
              "(2, 4)"
            ]
          },
          "metadata": {},
          "execution_count": 32
        }
      ]
    },
    {
      "cell_type": "code",
      "metadata": {
        "colab": {
          "base_uri": "https://localhost:8080/"
        },
        "id": "Ct-hTJIZqwRF",
        "outputId": "c024f7b7-1f1c-49e7-9789-70d9b83756c7"
      },
      "source": [
        "  floats.shape"
      ],
      "execution_count": 33,
      "outputs": [
        {
          "output_type": "execute_result",
          "data": {
            "text/plain": [
              "(6,)"
            ]
          },
          "metadata": {},
          "execution_count": 33
        }
      ]
    },
    {
      "cell_type": "code",
      "metadata": {
        "colab": {
          "base_uri": "https://localhost:8080/"
        },
        "id": "8pzjtJg9qxNM",
        "outputId": "70324168-5dd4-46e5-db4e-36fd8f4a17e1"
      },
      "source": [
        "int.size"
      ],
      "execution_count": 34,
      "outputs": [
        {
          "output_type": "execute_result",
          "data": {
            "text/plain": [
              "8"
            ]
          },
          "metadata": {},
          "execution_count": 34
        }
      ]
    },
    {
      "cell_type": "code",
      "metadata": {
        "colab": {
          "base_uri": "https://localhost:8080/"
        },
        "id": "GdkRanS0rGhW",
        "outputId": "9585ba53-c0c5-4393-8e4f-a333d0ff0ce7"
      },
      "source": [
        "floats.size"
      ],
      "execution_count": 36,
      "outputs": [
        {
          "output_type": "execute_result",
          "data": {
            "text/plain": [
              "6"
            ]
          },
          "metadata": {},
          "execution_count": 36
        }
      ]
    },
    {
      "cell_type": "code",
      "metadata": {
        "colab": {
          "base_uri": "https://localhost:8080/"
        },
        "id": "iOOSuNZGrHIE",
        "outputId": "495f7bb7-440f-4d2c-f8c3-c5ec5ea36c6f"
      },
      "source": [
        "for row in int:\n",
        "  print (row)"
      ],
      "execution_count": 37,
      "outputs": [
        {
          "output_type": "stream",
          "name": "stdout",
          "text": [
            "[1 2 3 4]\n",
            "[ 5  6  7 13]\n"
          ]
        }
      ]
    },
    {
      "cell_type": "code",
      "metadata": {
        "colab": {
          "base_uri": "https://localhost:8080/"
        },
        "id": "-GtSsKAPrLl8",
        "outputId": "a41506e9-86e6-43eb-8f6a-93f7fa2a99c6"
      },
      "source": [
        "for i in int.flat:\n",
        "  print(i)"
      ],
      "execution_count": 39,
      "outputs": [
        {
          "output_type": "stream",
          "name": "stdout",
          "text": [
            "1\n",
            "2\n",
            "3\n",
            "4\n",
            "5\n",
            "6\n",
            "7\n",
            "13\n"
          ]
        }
      ]
    },
    {
      "cell_type": "code",
      "metadata": {
        "colab": {
          "base_uri": "https://localhost:8080/"
        },
        "id": "-L0tWX18rS1X",
        "outputId": "7575c111-a697-4f2d-b991-324ee7a933c3"
      },
      "source": [
        "np.zeros(6)"
      ],
      "execution_count": 40,
      "outputs": [
        {
          "output_type": "execute_result",
          "data": {
            "text/plain": [
              "array([0., 0., 0., 0., 0., 0.])"
            ]
          },
          "metadata": {},
          "execution_count": 40
        }
      ]
    },
    {
      "cell_type": "code",
      "metadata": {
        "colab": {
          "base_uri": "https://localhost:8080/"
        },
        "id": "DyYMFNCariXB",
        "outputId": "157446ce-7370-4627-eac4-6025a384adcd"
      },
      "source": [
        "np.ones((3,4))"
      ],
      "execution_count": 43,
      "outputs": [
        {
          "output_type": "execute_result",
          "data": {
            "text/plain": [
              "array([[1., 1., 1., 1.],\n",
              "       [1., 1., 1., 1.],\n",
              "       [1., 1., 1., 1.]])"
            ]
          },
          "metadata": {},
          "execution_count": 43
        }
      ]
    },
    {
      "cell_type": "code",
      "metadata": {
        "colab": {
          "base_uri": "https://localhost:8080/"
        },
        "id": "RuPQMPssrqXK",
        "outputId": "1e1a703d-05b7-4509-a725-b9a7ab183b6b"
      },
      "source": [
        "np.full((3,5),13)"
      ],
      "execution_count": 44,
      "outputs": [
        {
          "output_type": "execute_result",
          "data": {
            "text/plain": [
              "array([[13, 13, 13, 13, 13],\n",
              "       [13, 13, 13, 13, 13],\n",
              "       [13, 13, 13, 13, 13]])"
            ]
          },
          "metadata": {},
          "execution_count": 44
        }
      ]
    },
    {
      "cell_type": "code",
      "metadata": {
        "colab": {
          "base_uri": "https://localhost:8080/"
        },
        "id": "uXnqS5F-r6cO",
        "outputId": "44ccb9e7-bed3-4bb7-8f23-bebc5f5c1e2e"
      },
      "source": [
        "np.arange(10)"
      ],
      "execution_count": 45,
      "outputs": [
        {
          "output_type": "execute_result",
          "data": {
            "text/plain": [
              "array([0, 1, 2, 3, 4, 5, 6, 7, 8, 9])"
            ]
          },
          "metadata": {},
          "execution_count": 45
        }
      ]
    },
    {
      "cell_type": "code",
      "metadata": {
        "colab": {
          "base_uri": "https://localhost:8080/"
        },
        "id": "V7Iur3MlsAQ9",
        "outputId": "2a9a2506-4ec0-4f28-f3cb-57f309bf143b"
      },
      "source": [
        "np.arange(3,8)"
      ],
      "execution_count": 46,
      "outputs": [
        {
          "output_type": "execute_result",
          "data": {
            "text/plain": [
              "array([3, 4, 5, 6, 7])"
            ]
          },
          "metadata": {},
          "execution_count": 46
        }
      ]
    },
    {
      "cell_type": "code",
      "metadata": {
        "colab": {
          "base_uri": "https://localhost:8080/"
        },
        "id": "fXE8FrWssD0z",
        "outputId": "2d944129-0f96-4b5d-e9fe-315db4964aa6"
      },
      "source": [
        "np.arange(20,1,-3)"
      ],
      "execution_count": 49,
      "outputs": [
        {
          "output_type": "execute_result",
          "data": {
            "text/plain": [
              "array([20, 17, 14, 11,  8,  5,  2])"
            ]
          },
          "metadata": {},
          "execution_count": 49
        }
      ]
    },
    {
      "cell_type": "code",
      "metadata": {
        "colab": {
          "base_uri": "https://localhost:8080/"
        },
        "id": "D8Sd4fpAsIQ3",
        "outputId": "2183c688-a759-4c89-cdde-3002f028a5dd"
      },
      "source": [
        "np.linspace(0,50)"
      ],
      "execution_count": 50,
      "outputs": [
        {
          "output_type": "execute_result",
          "data": {
            "text/plain": [
              "array([ 0.        ,  1.02040816,  2.04081633,  3.06122449,  4.08163265,\n",
              "        5.10204082,  6.12244898,  7.14285714,  8.16326531,  9.18367347,\n",
              "       10.20408163, 11.2244898 , 12.24489796, 13.26530612, 14.28571429,\n",
              "       15.30612245, 16.32653061, 17.34693878, 18.36734694, 19.3877551 ,\n",
              "       20.40816327, 21.42857143, 22.44897959, 23.46938776, 24.48979592,\n",
              "       25.51020408, 26.53061224, 27.55102041, 28.57142857, 29.59183673,\n",
              "       30.6122449 , 31.63265306, 32.65306122, 33.67346939, 34.69387755,\n",
              "       35.71428571, 36.73469388, 37.75510204, 38.7755102 , 39.79591837,\n",
              "       40.81632653, 41.83673469, 42.85714286, 43.87755102, 44.89795918,\n",
              "       45.91836735, 46.93877551, 47.95918367, 48.97959184, 50.        ])"
            ]
          },
          "metadata": {},
          "execution_count": 50
        }
      ]
    },
    {
      "cell_type": "code",
      "metadata": {
        "colab": {
          "base_uri": "https://localhost:8080/"
        },
        "id": "4Lyr_pvMsPIH",
        "outputId": "25395af6-9347-4059-fca9-e6b753e67944"
      },
      "source": [
        "np.linspace(0,50,5)"
      ],
      "execution_count": 54,
      "outputs": [
        {
          "output_type": "execute_result",
          "data": {
            "text/plain": [
              "array([ 0. , 12.5, 25. , 37.5, 50. ])"
            ]
          },
          "metadata": {},
          "execution_count": 54
        }
      ]
    },
    {
      "cell_type": "code",
      "metadata": {
        "colab": {
          "base_uri": "https://localhost:8080/"
        },
        "id": "0h0eP4_RsTRt",
        "outputId": "1825c869-57be-4f5c-e2d6-777c1de24fc9"
      },
      "source": [
        "np.arange(1,31).reshape(5,6)"
      ],
      "execution_count": 55,
      "outputs": [
        {
          "output_type": "execute_result",
          "data": {
            "text/plain": [
              "array([[ 1,  2,  3,  4,  5,  6],\n",
              "       [ 7,  8,  9, 10, 11, 12],\n",
              "       [13, 14, 15, 16, 17, 18],\n",
              "       [19, 20, 21, 22, 23, 24],\n",
              "       [25, 26, 27, 28, 29, 30]])"
            ]
          },
          "metadata": {},
          "execution_count": 55
        }
      ]
    },
    {
      "cell_type": "code",
      "metadata": {
        "colab": {
          "base_uri": "https://localhost:8080/",
          "height": 166
        },
        "id": "Qbs74QCAsjOo",
        "outputId": "39fa638d-95d7-4e5c-d093-02e09de7c1fc"
      },
      "source": [
        "np.arange(1,31).reshape(4,6)"
      ],
      "execution_count": 56,
      "outputs": [
        {
          "output_type": "error",
          "ename": "ValueError",
          "evalue": "ignored",
          "traceback": [
            "\u001b[0;31m---------------------------------------------------------------------------\u001b[0m",
            "\u001b[0;31mValueError\u001b[0m                                Traceback (most recent call last)",
            "\u001b[0;32m<ipython-input-56-1c77a84d5a49>\u001b[0m in \u001b[0;36m<module>\u001b[0;34m()\u001b[0m\n\u001b[0;32m----> 1\u001b[0;31m \u001b[0mnp\u001b[0m\u001b[0;34m.\u001b[0m\u001b[0marange\u001b[0m\u001b[0;34m(\u001b[0m\u001b[0;36m1\u001b[0m\u001b[0;34m,\u001b[0m\u001b[0;36m31\u001b[0m\u001b[0;34m)\u001b[0m\u001b[0;34m.\u001b[0m\u001b[0mreshape\u001b[0m\u001b[0;34m(\u001b[0m\u001b[0;36m4\u001b[0m\u001b[0;34m,\u001b[0m\u001b[0;36m6\u001b[0m\u001b[0;34m)\u001b[0m\u001b[0;34m\u001b[0m\u001b[0;34m\u001b[0m\u001b[0m\n\u001b[0m",
            "\u001b[0;31mValueError\u001b[0m: cannot reshape array of size 30 into shape (4,6)"
          ]
        }
      ]
    },
    {
      "cell_type": "code",
      "metadata": {
        "colab": {
          "base_uri": "https://localhost:8080/"
        },
        "id": "6G2kYvDiso6X",
        "outputId": "a740310b-37e3-4a34-cc45-351387673d97"
      },
      "source": [
        "np.random.randint(1,20,4)"
      ],
      "execution_count": 58,
      "outputs": [
        {
          "output_type": "execute_result",
          "data": {
            "text/plain": [
              "array([4, 6, 6, 3])"
            ]
          },
          "metadata": {},
          "execution_count": 58
        }
      ]
    },
    {
      "cell_type": "code",
      "metadata": {
        "id": "FfVGz9xcsytt"
      },
      "source": [
        "rand_array = np.random.randint(1,100,15)"
      ],
      "execution_count": 62,
      "outputs": []
    },
    {
      "cell_type": "code",
      "metadata": {
        "colab": {
          "base_uri": "https://localhost:8080/"
        },
        "id": "zacsGJ47s8ls",
        "outputId": "3299b9b8-9522-40dc-d7a5-d859cfa5c204"
      },
      "source": [
        "rand_array.sum()"
      ],
      "execution_count": 63,
      "outputs": [
        {
          "output_type": "execute_result",
          "data": {
            "text/plain": [
              "752"
            ]
          },
          "metadata": {},
          "execution_count": 63
        }
      ]
    },
    {
      "cell_type": "code",
      "metadata": {
        "colab": {
          "base_uri": "https://localhost:8080/"
        },
        "id": "0IkFlpJ-s_g6",
        "outputId": "95f79b48-56a9-40aa-e986-2a3189df2cdb"
      },
      "source": [
        "rand_array.max()"
      ],
      "execution_count": 64,
      "outputs": [
        {
          "output_type": "execute_result",
          "data": {
            "text/plain": [
              "94"
            ]
          },
          "metadata": {},
          "execution_count": 64
        }
      ]
    },
    {
      "cell_type": "code",
      "metadata": {
        "colab": {
          "base_uri": "https://localhost:8080/"
        },
        "id": "w3u47YPYtFMB",
        "outputId": "77323dac-ea9b-4932-e75a-8a2f81c064d7"
      },
      "source": [
        "rand_array.min()"
      ],
      "execution_count": 66,
      "outputs": [
        {
          "output_type": "execute_result",
          "data": {
            "text/plain": [
              "14"
            ]
          },
          "metadata": {},
          "execution_count": 66
        }
      ]
    },
    {
      "cell_type": "code",
      "metadata": {
        "colab": {
          "base_uri": "https://localhost:8080/"
        },
        "id": "2ODZhyxZtGbF",
        "outputId": "0dbc2ef1-770c-4f03-a117-256f433008a1"
      },
      "source": [
        "rand_array.mean()"
      ],
      "execution_count": 67,
      "outputs": [
        {
          "output_type": "execute_result",
          "data": {
            "text/plain": [
              "50.13333333333333"
            ]
          },
          "metadata": {},
          "execution_count": 67
        }
      ]
    },
    {
      "cell_type": "code",
      "metadata": {
        "colab": {
          "base_uri": "https://localhost:8080/"
        },
        "id": "830_1L3RtJT0",
        "outputId": "9b65b751-14df-4c8f-82e6-1db74aa72dd9"
      },
      "source": [
        "rand_array.std()"
      ],
      "execution_count": 68,
      "outputs": [
        {
          "output_type": "execute_result",
          "data": {
            "text/plain": [
              "24.21257708070103"
            ]
          },
          "metadata": {},
          "execution_count": 68
        }
      ]
    },
    {
      "cell_type": "markdown",
      "metadata": {
        "id": "jSLdrAAftZcr"
      },
      "source": [
        "###Array Operators"
      ]
    },
    {
      "cell_type": "code",
      "metadata": {
        "id": "2rVvj9e3tKxH"
      },
      "source": [
        "number_1 = np.arange(1,10,2)\n",
        "number_rand = np.random.randint(1,20,5)"
      ],
      "execution_count": 72,
      "outputs": []
    },
    {
      "cell_type": "code",
      "metadata": {
        "colab": {
          "base_uri": "https://localhost:8080/"
        },
        "id": "sG4zu-EKtjAN",
        "outputId": "a5639e57-8f5b-4490-950b-b20f37406fd9"
      },
      "source": [
        "number_1"
      ],
      "execution_count": 73,
      "outputs": [
        {
          "output_type": "execute_result",
          "data": {
            "text/plain": [
              "array([1, 3, 5, 7, 9])"
            ]
          },
          "metadata": {},
          "execution_count": 73
        }
      ]
    },
    {
      "cell_type": "code",
      "metadata": {
        "colab": {
          "base_uri": "https://localhost:8080/"
        },
        "id": "SioMLPyjtkIv",
        "outputId": "38625263-4ff2-44e9-e040-caa94c9efcca"
      },
      "source": [
        "number_rand"
      ],
      "execution_count": 77,
      "outputs": [
        {
          "output_type": "execute_result",
          "data": {
            "text/plain": [
              "array([18,  2,  7,  9, 12])"
            ]
          },
          "metadata": {},
          "execution_count": 77
        }
      ]
    },
    {
      "cell_type": "code",
      "metadata": {
        "colab": {
          "base_uri": "https://localhost:8080/"
        },
        "id": "YD52iMJJtk-M",
        "outputId": "add3317d-d3b9-4295-9a34-29da9cfdb7d1"
      },
      "source": [
        "number_1 + number_rand"
      ],
      "execution_count": 78,
      "outputs": [
        {
          "output_type": "execute_result",
          "data": {
            "text/plain": [
              "array([19,  5, 12, 16, 21])"
            ]
          },
          "metadata": {},
          "execution_count": 78
        }
      ]
    },
    {
      "cell_type": "code",
      "metadata": {
        "colab": {
          "base_uri": "https://localhost:8080/"
        },
        "id": "_5m6ovNdtzxc",
        "outputId": "9aa9f915-6c35-4225-cf8a-bb9fd4145090"
      },
      "source": [
        "number_1 * number_rand"
      ],
      "execution_count": 79,
      "outputs": [
        {
          "output_type": "execute_result",
          "data": {
            "text/plain": [
              "array([ 18,   6,  35,  63, 108])"
            ]
          },
          "metadata": {},
          "execution_count": 79
        }
      ]
    },
    {
      "cell_type": "code",
      "metadata": {
        "colab": {
          "base_uri": "https://localhost:8080/"
        },
        "id": "hDuwKvTKt2ex",
        "outputId": "ca8c2d5c-6ff9-4e0d-b5d3-ec044456845a"
      },
      "source": [
        "number_1/3"
      ],
      "execution_count": 80,
      "outputs": [
        {
          "output_type": "execute_result",
          "data": {
            "text/plain": [
              "array([0.33333333, 1.        , 1.66666667, 2.33333333, 3.        ])"
            ]
          },
          "metadata": {},
          "execution_count": 80
        }
      ]
    },
    {
      "cell_type": "code",
      "metadata": {
        "colab": {
          "base_uri": "https://localhost:8080/"
        },
        "id": "qF45eVEGt5v4",
        "outputId": "664b0fbc-59f7-46e1-a98a-34086e36ac9a"
      },
      "source": [
        "number_rand/3"
      ],
      "execution_count": 81,
      "outputs": [
        {
          "output_type": "execute_result",
          "data": {
            "text/plain": [
              "array([6.        , 0.66666667, 2.33333333, 3.        , 4.        ])"
            ]
          },
          "metadata": {},
          "execution_count": 81
        }
      ]
    },
    {
      "cell_type": "code",
      "metadata": {
        "colab": {
          "base_uri": "https://localhost:8080/"
        },
        "id": "kquJ7EBtt8u3",
        "outputId": "c194b8a5-2e6e-4844-b2dc-4abebba9f6c7"
      },
      "source": [
        "np.sqrt(number_1)"
      ],
      "execution_count": 82,
      "outputs": [
        {
          "output_type": "execute_result",
          "data": {
            "text/plain": [
              "array([1.        , 1.73205081, 2.23606798, 2.64575131, 3.        ])"
            ]
          },
          "metadata": {},
          "execution_count": 82
        }
      ]
    },
    {
      "cell_type": "code",
      "metadata": {
        "colab": {
          "base_uri": "https://localhost:8080/"
        },
        "id": "zKG1SFqquIGL",
        "outputId": "7881c237-db63-48cf-a1af-7e6a79ae96de"
      },
      "source": [
        "np.sqrt(number_rand)"
      ],
      "execution_count": 83,
      "outputs": [
        {
          "output_type": "execute_result",
          "data": {
            "text/plain": [
              "array([4.24264069, 1.41421356, 2.64575131, 3.        , 3.46410162])"
            ]
          },
          "metadata": {},
          "execution_count": 83
        }
      ]
    },
    {
      "cell_type": "code",
      "metadata": {
        "id": "affx2gxnuJt9"
      },
      "source": [
        "s = np.arange(1,10,2)"
      ],
      "execution_count": 84,
      "outputs": []
    },
    {
      "cell_type": "code",
      "metadata": {
        "id": "mLhW3s5QuUuy"
      },
      "source": [
        "d = np.arange(1,11,3)"
      ],
      "execution_count": 85,
      "outputs": []
    },
    {
      "cell_type": "code",
      "metadata": {
        "colab": {
          "base_uri": "https://localhost:8080/",
          "height": 166
        },
        "id": "HUcQGSyluXQ0",
        "outputId": "c610033e-91d6-4717-fd3f-dd7366c48f58"
      },
      "source": [
        "s + d"
      ],
      "execution_count": 86,
      "outputs": [
        {
          "output_type": "error",
          "ename": "ValueError",
          "evalue": "ignored",
          "traceback": [
            "\u001b[0;31m---------------------------------------------------------------------------\u001b[0m",
            "\u001b[0;31mValueError\u001b[0m                                Traceback (most recent call last)",
            "\u001b[0;32m<ipython-input-86-0f8a3e9f5cfa>\u001b[0m in \u001b[0;36m<module>\u001b[0;34m()\u001b[0m\n\u001b[0;32m----> 1\u001b[0;31m \u001b[0ms\u001b[0m \u001b[0;34m+\u001b[0m \u001b[0md\u001b[0m\u001b[0;34m\u001b[0m\u001b[0;34m\u001b[0m\u001b[0m\n\u001b[0m",
            "\u001b[0;31mValueError\u001b[0m: operands could not be broadcast together with shapes (5,) (4,) "
          ]
        }
      ]
    },
    {
      "cell_type": "markdown",
      "metadata": {
        "id": "FcRDeU1BubbU"
      },
      "source": [
        "###Indexing and Slicing"
      ]
    },
    {
      "cell_type": "code",
      "metadata": {
        "id": "xUt4UMTquYr4"
      },
      "source": [
        "ni = np.random.randint(1,30,8)"
      ],
      "execution_count": 87,
      "outputs": []
    },
    {
      "cell_type": "code",
      "metadata": {
        "colab": {
          "base_uri": "https://localhost:8080/"
        },
        "id": "LN4ZuJlCur69",
        "outputId": "1465571b-32a1-4190-c5ab-fb3aa3010488"
      },
      "source": [
        "ni"
      ],
      "execution_count": 88,
      "outputs": [
        {
          "output_type": "execute_result",
          "data": {
            "text/plain": [
              "array([12, 28, 28,  6, 24, 14, 20, 22])"
            ]
          },
          "metadata": {},
          "execution_count": 88
        }
      ]
    },
    {
      "cell_type": "code",
      "metadata": {
        "colab": {
          "base_uri": "https://localhost:8080/"
        },
        "id": "teHeZVxuuszR",
        "outputId": "54d3fd4b-e10d-4e0f-cbc1-0e53bfa6d859"
      },
      "source": [
        "ni[3]"
      ],
      "execution_count": 89,
      "outputs": [
        {
          "output_type": "execute_result",
          "data": {
            "text/plain": [
              "6"
            ]
          },
          "metadata": {},
          "execution_count": 89
        }
      ]
    },
    {
      "cell_type": "code",
      "metadata": {
        "colab": {
          "base_uri": "https://localhost:8080/"
        },
        "id": "NAVi54kCuySn",
        "outputId": "3953c3bb-ec49-4f85-ff5e-bbbe2957065e"
      },
      "source": [
        "ni[2:6]"
      ],
      "execution_count": 90,
      "outputs": [
        {
          "output_type": "execute_result",
          "data": {
            "text/plain": [
              "array([28,  6, 24, 14])"
            ]
          },
          "metadata": {},
          "execution_count": 90
        }
      ]
    },
    {
      "cell_type": "code",
      "metadata": {
        "colab": {
          "base_uri": "https://localhost:8080/"
        },
        "id": "9Mdv__o0u2X6",
        "outputId": "52a457ab-76ee-415d-8123-30d0769f9921"
      },
      "source": [
        "ni[:3]"
      ],
      "execution_count": 91,
      "outputs": [
        {
          "output_type": "execute_result",
          "data": {
            "text/plain": [
              "array([12, 28, 28])"
            ]
          },
          "metadata": {},
          "execution_count": 91
        }
      ]
    },
    {
      "cell_type": "code",
      "metadata": {
        "id": "1QUAsei_u3-8"
      },
      "source": [
        "ni_2 = np.arange(1,7)"
      ],
      "execution_count": 92,
      "outputs": []
    },
    {
      "cell_type": "code",
      "metadata": {
        "colab": {
          "base_uri": "https://localhost:8080/"
        },
        "id": "20yY0Mzbu-lS",
        "outputId": "968842a3-2e20-4983-d9c5-45bb73150e90"
      },
      "source": [
        "ni_2 "
      ],
      "execution_count": 93,
      "outputs": [
        {
          "output_type": "execute_result",
          "data": {
            "text/plain": [
              "array([1, 2, 3, 4, 5, 6])"
            ]
          },
          "metadata": {},
          "execution_count": 93
        }
      ]
    },
    {
      "cell_type": "code",
      "metadata": {
        "id": "m_nhpMvKu_wn"
      },
      "source": [
        "ni_2 [:3] = 7"
      ],
      "execution_count": 94,
      "outputs": []
    },
    {
      "cell_type": "code",
      "metadata": {
        "colab": {
          "base_uri": "https://localhost:8080/"
        },
        "id": "LhVWwEwnvCsa",
        "outputId": "7640ae95-d3a5-4bb2-814c-256ff6df83c3"
      },
      "source": [
        "ni_2"
      ],
      "execution_count": 96,
      "outputs": [
        {
          "output_type": "execute_result",
          "data": {
            "text/plain": [
              "array([7, 7, 7, 4, 5, 6])"
            ]
          },
          "metadata": {},
          "execution_count": 96
        }
      ]
    },
    {
      "cell_type": "code",
      "metadata": {
        "id": "Cz3nRDAYvDVt"
      },
      "source": [
        "ni_3 = np.random.randint(1,100,20)"
      ],
      "execution_count": 97,
      "outputs": []
    },
    {
      "cell_type": "code",
      "metadata": {
        "colab": {
          "base_uri": "https://localhost:8080/"
        },
        "id": "K-S476xuvLrO",
        "outputId": "36e31db3-5289-460a-e2ad-c14589513147"
      },
      "source": [
        "ni_3"
      ],
      "execution_count": 98,
      "outputs": [
        {
          "output_type": "execute_result",
          "data": {
            "text/plain": [
              "array([13, 82, 13, 98,  4,  2, 71, 70, 99, 29, 13, 55, 99, 48, 11, 38, 40,\n",
              "       61, 74,  3])"
            ]
          },
          "metadata": {},
          "execution_count": 98
        }
      ]
    },
    {
      "cell_type": "code",
      "metadata": {
        "id": "G_sceAf7vNAZ"
      },
      "source": [
        "ni_3 = ni_3.reshape(5,4)"
      ],
      "execution_count": 99,
      "outputs": []
    },
    {
      "cell_type": "code",
      "metadata": {
        "colab": {
          "base_uri": "https://localhost:8080/"
        },
        "id": "rM6WZBKovSdd",
        "outputId": "8cb21e27-55c1-4759-feea-aa11d56e5f39"
      },
      "source": [
        "ni_3"
      ],
      "execution_count": 100,
      "outputs": [
        {
          "output_type": "execute_result",
          "data": {
            "text/plain": [
              "array([[13, 82, 13, 98],\n",
              "       [ 4,  2, 71, 70],\n",
              "       [99, 29, 13, 55],\n",
              "       [99, 48, 11, 38],\n",
              "       [40, 61, 74,  3]])"
            ]
          },
          "metadata": {},
          "execution_count": 100
        }
      ]
    },
    {
      "cell_type": "code",
      "metadata": {
        "colab": {
          "base_uri": "https://localhost:8080/"
        },
        "id": "IjaiaJ_bvTJm",
        "outputId": "b5a7af68-5351-4fae-9f37-441671755e28"
      },
      "source": [
        "ni_3[4]"
      ],
      "execution_count": 101,
      "outputs": [
        {
          "output_type": "execute_result",
          "data": {
            "text/plain": [
              "array([40, 61, 74,  3])"
            ]
          },
          "metadata": {},
          "execution_count": 101
        }
      ]
    },
    {
      "cell_type": "code",
      "metadata": {
        "colab": {
          "base_uri": "https://localhost:8080/"
        },
        "id": "aKIR-1j7vY3q",
        "outputId": "99f07719-12d6-4a90-bc86-a8f002363f08"
      },
      "source": [
        "ni_3[3]"
      ],
      "execution_count": 102,
      "outputs": [
        {
          "output_type": "execute_result",
          "data": {
            "text/plain": [
              "array([99, 48, 11, 38])"
            ]
          },
          "metadata": {},
          "execution_count": 102
        }
      ]
    },
    {
      "cell_type": "code",
      "metadata": {
        "colab": {
          "base_uri": "https://localhost:8080/"
        },
        "id": "w1u2LK44vaa4",
        "outputId": "5597d82c-cdb2-4d28-f7c5-041474577e12"
      },
      "source": [
        "ni_3[3,0]"
      ],
      "execution_count": 103,
      "outputs": [
        {
          "output_type": "execute_result",
          "data": {
            "text/plain": [
              "99"
            ]
          },
          "metadata": {},
          "execution_count": 103
        }
      ]
    },
    {
      "cell_type": "code",
      "metadata": {
        "colab": {
          "base_uri": "https://localhost:8080/"
        },
        "id": "Re4SZZcevdrv",
        "outputId": "124cddcd-907d-4ab1-8284-02b33b80e97a"
      },
      "source": [
        "ni_3[:2]"
      ],
      "execution_count": 105,
      "outputs": [
        {
          "output_type": "execute_result",
          "data": {
            "text/plain": [
              "array([[13, 82, 13, 98],\n",
              "       [ 4,  2, 71, 70]])"
            ]
          },
          "metadata": {},
          "execution_count": 105
        }
      ]
    },
    {
      "cell_type": "code",
      "metadata": {
        "colab": {
          "base_uri": "https://localhost:8080/"
        },
        "id": "ew5ZNBdVvgnY",
        "outputId": "5b58177a-e8da-456d-b808-27517a320088"
      },
      "source": [
        "ni_3[:,2:4]"
      ],
      "execution_count": 106,
      "outputs": [
        {
          "output_type": "execute_result",
          "data": {
            "text/plain": [
              "array([[13, 98],\n",
              "       [71, 70],\n",
              "       [13, 55],\n",
              "       [11, 38],\n",
              "       [74,  3]])"
            ]
          },
          "metadata": {},
          "execution_count": 106
        }
      ]
    },
    {
      "cell_type": "code",
      "metadata": {
        "colab": {
          "base_uri": "https://localhost:8080/"
        },
        "id": "rynvfbWwvkCr",
        "outputId": "b03e2f52-6b22-4bc6-ef51-de205505abf8"
      },
      "source": [
        "ni_3[:,(2,3)]"
      ],
      "execution_count": 108,
      "outputs": [
        {
          "output_type": "execute_result",
          "data": {
            "text/plain": [
              "array([[13, 98],\n",
              "       [71, 70],\n",
              "       [13, 55],\n",
              "       [11, 38],\n",
              "       [74,  3]])"
            ]
          },
          "metadata": {},
          "execution_count": 108
        }
      ]
    },
    {
      "cell_type": "code",
      "metadata": {
        "id": "YHDaYxGLvpH2"
      },
      "source": [
        "ni_4 = np.arange(1,7)"
      ],
      "execution_count": 111,
      "outputs": []
    },
    {
      "cell_type": "code",
      "metadata": {
        "colab": {
          "base_uri": "https://localhost:8080/"
        },
        "id": "GxpyD1Ygv0CI",
        "outputId": "933eff5c-95e3-4019-f3e2-ce6577ce1682"
      },
      "source": [
        "ni_4"
      ],
      "execution_count": 112,
      "outputs": [
        {
          "output_type": "execute_result",
          "data": {
            "text/plain": [
              "array([1, 2, 3, 4, 5, 6])"
            ]
          },
          "metadata": {},
          "execution_count": 112
        }
      ]
    },
    {
      "cell_type": "code",
      "metadata": {
        "id": "fH76BeL7v06P"
      },
      "source": [
        "ni_4[4]*=4"
      ],
      "execution_count": 113,
      "outputs": []
    },
    {
      "cell_type": "code",
      "metadata": {
        "colab": {
          "base_uri": "https://localhost:8080/"
        },
        "id": "HzQL3-2RwDUz",
        "outputId": "5a7b457a-d47f-4710-ddee-cc54ba4953e0"
      },
      "source": [
        "ni_4"
      ],
      "execution_count": 114,
      "outputs": [
        {
          "output_type": "execute_result",
          "data": {
            "text/plain": [
              "array([ 1,  2,  3,  4, 20,  6])"
            ]
          },
          "metadata": {},
          "execution_count": 114
        }
      ]
    },
    {
      "cell_type": "code",
      "metadata": {
        "id": "9lLNQUjuwEbn"
      },
      "source": [
        "ni_4[2] +=5"
      ],
      "execution_count": 115,
      "outputs": []
    },
    {
      "cell_type": "code",
      "metadata": {
        "colab": {
          "base_uri": "https://localhost:8080/"
        },
        "id": "c8iikFWwwJnY",
        "outputId": "767a2437-6010-44fd-befe-570873ae01a4"
      },
      "source": [
        "ni_4"
      ],
      "execution_count": 116,
      "outputs": [
        {
          "output_type": "execute_result",
          "data": {
            "text/plain": [
              "array([ 1,  2,  8,  4, 20,  6])"
            ]
          },
          "metadata": {},
          "execution_count": 116
        }
      ]
    },
    {
      "cell_type": "code",
      "metadata": {
        "id": "RG5f1FWlwLeb"
      },
      "source": [
        "ni_4_dc = ni_4.copy()"
      ],
      "execution_count": 117,
      "outputs": []
    },
    {
      "cell_type": "code",
      "metadata": {
        "colab": {
          "base_uri": "https://localhost:8080/"
        },
        "id": "khFAwopZwYfa",
        "outputId": "f07f4831-595d-427b-c509-44fa5e7ec2e5"
      },
      "source": [
        "ni_4_dc "
      ],
      "execution_count": 118,
      "outputs": [
        {
          "output_type": "execute_result",
          "data": {
            "text/plain": [
              "array([ 1,  2,  8,  4, 20,  6])"
            ]
          },
          "metadata": {},
          "execution_count": 118
        }
      ]
    },
    {
      "cell_type": "code",
      "metadata": {
        "id": "BLb84QQawaHB"
      },
      "source": [
        "ni_4_dc[1] -=3"
      ],
      "execution_count": 119,
      "outputs": []
    },
    {
      "cell_type": "code",
      "metadata": {
        "colab": {
          "base_uri": "https://localhost:8080/"
        },
        "id": "pNPrPBnowdFV",
        "outputId": "f6ce6710-e156-45c7-d51f-dae95df6e7c3"
      },
      "source": [
        "ni_4_dc"
      ],
      "execution_count": 120,
      "outputs": [
        {
          "output_type": "execute_result",
          "data": {
            "text/plain": [
              "array([ 1, -1,  8,  4, 20,  6])"
            ]
          },
          "metadata": {},
          "execution_count": 120
        }
      ]
    },
    {
      "cell_type": "code",
      "metadata": {
        "colab": {
          "base_uri": "https://localhost:8080/"
        },
        "id": "RyibiyW5we8m",
        "outputId": "9e17936c-8ab2-4b33-f7cf-2f3188c866fd"
      },
      "source": [
        "ni_4"
      ],
      "execution_count": 121,
      "outputs": [
        {
          "output_type": "execute_result",
          "data": {
            "text/plain": [
              "array([ 1,  2,  8,  4, 20,  6])"
            ]
          },
          "metadata": {},
          "execution_count": 121
        }
      ]
    },
    {
      "cell_type": "markdown",
      "metadata": {
        "id": "zsER4CoUy-v0"
      },
      "source": [
        "###Numpy Excercise"
      ]
    },
    {
      "cell_type": "code",
      "metadata": {
        "id": "oEwSXLL2wgF-"
      },
      "source": [
        "arr_1 = np.random.randint(1,150,20)"
      ],
      "execution_count": 122,
      "outputs": []
    },
    {
      "cell_type": "code",
      "metadata": {
        "colab": {
          "base_uri": "https://localhost:8080/"
        },
        "id": "MJlQvjzyzY0r",
        "outputId": "657b9dea-a5be-4c13-9f05-e11e92b937e7"
      },
      "source": [
        "arr_1"
      ],
      "execution_count": 124,
      "outputs": [
        {
          "output_type": "execute_result",
          "data": {
            "text/plain": [
              "array([102, 145, 131,  85,  60,  36, 106, 109,  70,  36,  45,  21, 141,\n",
              "        61,  20,  86,  36, 103, 114,   2])"
            ]
          },
          "metadata": {},
          "execution_count": 124
        }
      ]
    },
    {
      "cell_type": "code",
      "metadata": {
        "colab": {
          "base_uri": "https://localhost:8080/"
        },
        "id": "rvuWzDH1zZH6",
        "outputId": "a3327944-cb28-4741-f92c-dd348af6c116"
      },
      "source": [
        "arr_1.sum()"
      ],
      "execution_count": 125,
      "outputs": [
        {
          "output_type": "execute_result",
          "data": {
            "text/plain": [
              "1509"
            ]
          },
          "metadata": {},
          "execution_count": 125
        }
      ]
    },
    {
      "cell_type": "code",
      "metadata": {
        "colab": {
          "base_uri": "https://localhost:8080/"
        },
        "id": "_i8jpFilze3n",
        "outputId": "6a729e04-7687-496d-f5cb-50ca1773603e"
      },
      "source": [
        "arr_1.max()"
      ],
      "execution_count": 126,
      "outputs": [
        {
          "output_type": "execute_result",
          "data": {
            "text/plain": [
              "145"
            ]
          },
          "metadata": {},
          "execution_count": 126
        }
      ]
    },
    {
      "cell_type": "code",
      "metadata": {
        "colab": {
          "base_uri": "https://localhost:8080/"
        },
        "id": "Ov7XdqnMziUU",
        "outputId": "935e84db-6ec9-4b77-fd08-e52bd5e99770"
      },
      "source": [
        "arr_1.min()"
      ],
      "execution_count": 127,
      "outputs": [
        {
          "output_type": "execute_result",
          "data": {
            "text/plain": [
              "2"
            ]
          },
          "metadata": {},
          "execution_count": 127
        }
      ]
    },
    {
      "cell_type": "code",
      "metadata": {
        "colab": {
          "base_uri": "https://localhost:8080/"
        },
        "id": "A9aBWA6EzjYd",
        "outputId": "a50d469d-beb2-49d5-b38a-9f142c0145e8"
      },
      "source": [
        "arr_1.mean()"
      ],
      "execution_count": 128,
      "outputs": [
        {
          "output_type": "execute_result",
          "data": {
            "text/plain": [
              "75.45"
            ]
          },
          "metadata": {},
          "execution_count": 128
        }
      ]
    },
    {
      "cell_type": "code",
      "metadata": {
        "id": "7sUCIIdMzmZg"
      },
      "source": [
        "arr_2 = np.arange(1,60,3)"
      ],
      "execution_count": 129,
      "outputs": []
    },
    {
      "cell_type": "code",
      "metadata": {
        "colab": {
          "base_uri": "https://localhost:8080/"
        },
        "id": "zGeepIs4ztzt",
        "outputId": "3c30e53a-633b-49ab-f844-b7820c4cd6e0"
      },
      "source": [
        "arr_2"
      ],
      "execution_count": 131,
      "outputs": [
        {
          "output_type": "execute_result",
          "data": {
            "text/plain": [
              "array([ 1,  4,  7, 10, 13, 16, 19, 22, 25, 28, 31, 34, 37, 40, 43, 46, 49,\n",
              "       52, 55, 58])"
            ]
          },
          "metadata": {},
          "execution_count": 131
        }
      ]
    },
    {
      "cell_type": "code",
      "metadata": {
        "colab": {
          "base_uri": "https://localhost:8080/"
        },
        "id": "hFAZ77aozuS8",
        "outputId": "7902a482-f2fa-4786-c8b9-5ef366b8d3ff"
      },
      "source": [
        "arr_2 + arr_1"
      ],
      "execution_count": 132,
      "outputs": [
        {
          "output_type": "execute_result",
          "data": {
            "text/plain": [
              "array([103, 149, 138,  95,  73,  52, 125, 131,  95,  64,  76,  55, 178,\n",
              "       101,  63, 132,  85, 155, 169,  60])"
            ]
          },
          "metadata": {},
          "execution_count": 132
        }
      ]
    },
    {
      "cell_type": "code",
      "metadata": {
        "colab": {
          "base_uri": "https://localhost:8080/"
        },
        "id": "wx49HMJxz2rC",
        "outputId": "ce8104b8-6180-4ca5-9306-d59a15c785a8"
      },
      "source": [
        "arr_1"
      ],
      "execution_count": 133,
      "outputs": [
        {
          "output_type": "execute_result",
          "data": {
            "text/plain": [
              "array([102, 145, 131,  85,  60,  36, 106, 109,  70,  36,  45,  21, 141,\n",
              "        61,  20,  86,  36, 103, 114,   2])"
            ]
          },
          "metadata": {},
          "execution_count": 133
        }
      ]
    },
    {
      "cell_type": "code",
      "metadata": {
        "colab": {
          "base_uri": "https://localhost:8080/"
        },
        "id": "Vcu2mDLTz6U4",
        "outputId": "5b7a2ba8-ea79-4148-fe54-29f4dc50ecf7"
      },
      "source": [
        "arr_1[10]"
      ],
      "execution_count": 135,
      "outputs": [
        {
          "output_type": "execute_result",
          "data": {
            "text/plain": [
              "45"
            ]
          },
          "metadata": {},
          "execution_count": 135
        }
      ]
    },
    {
      "cell_type": "code",
      "metadata": {
        "id": "_8jnC_DIz8Hp"
      },
      "source": [
        "r_element = arr_1[np.random.randint(1,21,1)]"
      ],
      "execution_count": 137,
      "outputs": []
    },
    {
      "cell_type": "code",
      "metadata": {
        "colab": {
          "base_uri": "https://localhost:8080/"
        },
        "id": "-xdDRh1a0Bbu",
        "outputId": "ff9667bb-9877-4c5e-9dde-fa43a0a8e383"
      },
      "source": [
        "r_element"
      ],
      "execution_count": 138,
      "outputs": [
        {
          "output_type": "execute_result",
          "data": {
            "text/plain": [
              "array([36])"
            ]
          },
          "metadata": {},
          "execution_count": 138
        }
      ]
    },
    {
      "cell_type": "code",
      "metadata": {
        "id": "eCJLPsRD0NPa"
      },
      "source": [
        "index_value = np.where(arr_1 == r_element)"
      ],
      "execution_count": 139,
      "outputs": []
    },
    {
      "cell_type": "code",
      "metadata": {
        "colab": {
          "base_uri": "https://localhost:8080/"
        },
        "id": "SgGJEDx50YXK",
        "outputId": "5488a6de-9c70-40c0-d48d-0a77a7b9d9ba"
      },
      "source": [
        "index_value"
      ],
      "execution_count": 140,
      "outputs": [
        {
          "output_type": "execute_result",
          "data": {
            "text/plain": [
              "(array([ 5,  9, 16]),)"
            ]
          },
          "metadata": {},
          "execution_count": 140
        }
      ]
    },
    {
      "cell_type": "code",
      "metadata": {
        "id": "0cSF-uhW0ZoJ"
      },
      "source": [
        "arr_2 = arr_1.reshape(4,5)"
      ],
      "execution_count": 141,
      "outputs": []
    },
    {
      "cell_type": "code",
      "metadata": {
        "colab": {
          "base_uri": "https://localhost:8080/"
        },
        "id": "mGViDUCl0kuD",
        "outputId": "23b767be-f082-4cf6-8a72-6a149da0ad4b"
      },
      "source": [
        "arr_2"
      ],
      "execution_count": 142,
      "outputs": [
        {
          "output_type": "execute_result",
          "data": {
            "text/plain": [
              "array([[102, 145, 131,  85,  60],\n",
              "       [ 36, 106, 109,  70,  36],\n",
              "       [ 45,  21, 141,  61,  20],\n",
              "       [ 86,  36, 103, 114,   2]])"
            ]
          },
          "metadata": {},
          "execution_count": 142
        }
      ]
    },
    {
      "cell_type": "code",
      "metadata": {
        "colab": {
          "base_uri": "https://localhost:8080/"
        },
        "id": "6E3pTaCn0le0",
        "outputId": "2a8d345c-35b5-4ff0-917f-8e8db1ce95bf"
      },
      "source": [
        "arr_2[:,(1,4)]"
      ],
      "execution_count": 143,
      "outputs": [
        {
          "output_type": "execute_result",
          "data": {
            "text/plain": [
              "array([[145,  60],\n",
              "       [106,  36],\n",
              "       [ 21,  20],\n",
              "       [ 36,   2]])"
            ]
          },
          "metadata": {},
          "execution_count": 143
        }
      ]
    },
    {
      "cell_type": "code",
      "metadata": {
        "id": "rN48Ybg00oWw"
      },
      "source": [
        "arr_2a = np.pad(arr_2,pad_width= 1, mode = \"constant\", constant_values = 0)"
      ],
      "execution_count": 146,
      "outputs": []
    },
    {
      "cell_type": "code",
      "metadata": {
        "colab": {
          "base_uri": "https://localhost:8080/"
        },
        "id": "jsAoSL7N1qiy",
        "outputId": "b0c661fb-77e9-4b9a-f71d-644ca1267a92"
      },
      "source": [
        "arr_2a"
      ],
      "execution_count": 147,
      "outputs": [
        {
          "output_type": "execute_result",
          "data": {
            "text/plain": [
              "array([[  0,   0,   0,   0,   0,   0,   0],\n",
              "       [  0, 102, 145, 131,  85,  60,   0],\n",
              "       [  0,  36, 106, 109,  70,  36,   0],\n",
              "       [  0,  45,  21, 141,  61,  20,   0],\n",
              "       [  0,  86,  36, 103, 114,   2,   0],\n",
              "       [  0,   0,   0,   0,   0,   0,   0]])"
            ]
          },
          "metadata": {},
          "execution_count": 147
        }
      ]
    },
    {
      "cell_type": "code",
      "metadata": {
        "id": "Z8-vc8zn1yhX"
      },
      "source": [
        "arr_5 = np.arange(1,101).reshape(10,10)"
      ],
      "execution_count": 148,
      "outputs": []
    },
    {
      "cell_type": "code",
      "metadata": {
        "colab": {
          "base_uri": "https://localhost:8080/"
        },
        "id": "5FJMvKfN2VER",
        "outputId": "29b5c7b9-dfa3-4f15-de31-7e37b8e5c907"
      },
      "source": [
        "arr_5"
      ],
      "execution_count": 149,
      "outputs": [
        {
          "output_type": "execute_result",
          "data": {
            "text/plain": [
              "array([[  1,   2,   3,   4,   5,   6,   7,   8,   9,  10],\n",
              "       [ 11,  12,  13,  14,  15,  16,  17,  18,  19,  20],\n",
              "       [ 21,  22,  23,  24,  25,  26,  27,  28,  29,  30],\n",
              "       [ 31,  32,  33,  34,  35,  36,  37,  38,  39,  40],\n",
              "       [ 41,  42,  43,  44,  45,  46,  47,  48,  49,  50],\n",
              "       [ 51,  52,  53,  54,  55,  56,  57,  58,  59,  60],\n",
              "       [ 61,  62,  63,  64,  65,  66,  67,  68,  69,  70],\n",
              "       [ 71,  72,  73,  74,  75,  76,  77,  78,  79,  80],\n",
              "       [ 81,  82,  83,  84,  85,  86,  87,  88,  89,  90],\n",
              "       [ 91,  92,  93,  94,  95,  96,  97,  98,  99, 100]])"
            ]
          },
          "metadata": {},
          "execution_count": 149
        }
      ]
    },
    {
      "cell_type": "code",
      "metadata": {
        "colab": {
          "base_uri": "https://localhost:8080/"
        },
        "id": "6haKtcOD2Vd_",
        "outputId": "ef1129c6-2ffd-4941-e262-30ecc6a9d847"
      },
      "source": [
        "arr_5[5:]"
      ],
      "execution_count": 150,
      "outputs": [
        {
          "output_type": "execute_result",
          "data": {
            "text/plain": [
              "array([[ 51,  52,  53,  54,  55,  56,  57,  58,  59,  60],\n",
              "       [ 61,  62,  63,  64,  65,  66,  67,  68,  69,  70],\n",
              "       [ 71,  72,  73,  74,  75,  76,  77,  78,  79,  80],\n",
              "       [ 81,  82,  83,  84,  85,  86,  87,  88,  89,  90],\n",
              "       [ 91,  92,  93,  94,  95,  96,  97,  98,  99, 100]])"
            ]
          },
          "metadata": {},
          "execution_count": 150
        }
      ]
    },
    {
      "cell_type": "code",
      "metadata": {
        "colab": {
          "base_uri": "https://localhost:8080/"
        },
        "id": "cWhfTiIJ2Xkd",
        "outputId": "0153e214-c075-4926-abaf-964f10a6d224"
      },
      "source": [
        "arr_5[:5]"
      ],
      "execution_count": 151,
      "outputs": [
        {
          "output_type": "execute_result",
          "data": {
            "text/plain": [
              "array([[ 1,  2,  3,  4,  5,  6,  7,  8,  9, 10],\n",
              "       [11, 12, 13, 14, 15, 16, 17, 18, 19, 20],\n",
              "       [21, 22, 23, 24, 25, 26, 27, 28, 29, 30],\n",
              "       [31, 32, 33, 34, 35, 36, 37, 38, 39, 40],\n",
              "       [41, 42, 43, 44, 45, 46, 47, 48, 49, 50]])"
            ]
          },
          "metadata": {},
          "execution_count": 151
        }
      ]
    },
    {
      "cell_type": "code",
      "metadata": {
        "colab": {
          "base_uri": "https://localhost:8080/"
        },
        "id": "6yv9wL642auj",
        "outputId": "407bc38a-3358-4899-d0d6-cb3fc9dd9931"
      },
      "source": [
        "arr_5[4:,5:]"
      ],
      "execution_count": 152,
      "outputs": [
        {
          "output_type": "execute_result",
          "data": {
            "text/plain": [
              "array([[ 46,  47,  48,  49,  50],\n",
              "       [ 56,  57,  58,  59,  60],\n",
              "       [ 66,  67,  68,  69,  70],\n",
              "       [ 76,  77,  78,  79,  80],\n",
              "       [ 86,  87,  88,  89,  90],\n",
              "       [ 96,  97,  98,  99, 100]])"
            ]
          },
          "metadata": {},
          "execution_count": 152
        }
      ]
    },
    {
      "cell_type": "code",
      "metadata": {
        "colab": {
          "base_uri": "https://localhost:8080/"
        },
        "id": "11XVgq0v3u2a",
        "outputId": "415415f7-34d3-4ac4-a72d-5f3b3023bcc2"
      },
      "source": [
        "arr_5[2:5,4:7]"
      ],
      "execution_count": 153,
      "outputs": [
        {
          "output_type": "execute_result",
          "data": {
            "text/plain": [
              "array([[25, 26, 27],\n",
              "       [35, 36, 37],\n",
              "       [45, 46, 47]])"
            ]
          },
          "metadata": {},
          "execution_count": 153
        }
      ]
    },
    {
      "cell_type": "code",
      "metadata": {
        "colab": {
          "base_uri": "https://localhost:8080/"
        },
        "id": "pWalCp7Z39Il",
        "outputId": "5ad87bfb-3075-4807-f58c-dd4a422ed4ae"
      },
      "source": [
        "arr_5"
      ],
      "execution_count": 154,
      "outputs": [
        {
          "output_type": "execute_result",
          "data": {
            "text/plain": [
              "array([[  1,   2,   3,   4,   5,   6,   7,   8,   9,  10],\n",
              "       [ 11,  12,  13,  14,  15,  16,  17,  18,  19,  20],\n",
              "       [ 21,  22,  23,  24,  25,  26,  27,  28,  29,  30],\n",
              "       [ 31,  32,  33,  34,  35,  36,  37,  38,  39,  40],\n",
              "       [ 41,  42,  43,  44,  45,  46,  47,  48,  49,  50],\n",
              "       [ 51,  52,  53,  54,  55,  56,  57,  58,  59,  60],\n",
              "       [ 61,  62,  63,  64,  65,  66,  67,  68,  69,  70],\n",
              "       [ 71,  72,  73,  74,  75,  76,  77,  78,  79,  80],\n",
              "       [ 81,  82,  83,  84,  85,  86,  87,  88,  89,  90],\n",
              "       [ 91,  92,  93,  94,  95,  96,  97,  98,  99, 100]])"
            ]
          },
          "metadata": {},
          "execution_count": 154
        }
      ]
    },
    {
      "cell_type": "code",
      "metadata": {
        "colab": {
          "base_uri": "https://localhost:8080/"
        },
        "id": "1iazy9XE3-fX",
        "outputId": "64f425c5-d619-4a4d-8af8-7fe6f98773ef"
      },
      "source": [
        "arr_5[:,9]"
      ],
      "execution_count": 155,
      "outputs": [
        {
          "output_type": "execute_result",
          "data": {
            "text/plain": [
              "array([ 10,  20,  30,  40,  50,  60,  70,  80,  90, 100])"
            ]
          },
          "metadata": {},
          "execution_count": 155
        }
      ]
    },
    {
      "cell_type": "code",
      "metadata": {
        "colab": {
          "base_uri": "https://localhost:8080/",
          "height": 166
        },
        "id": "XLhCbXIN4UfD",
        "outputId": "cdd01218-f07c-4c42-88ca-2ae4a25f2047"
      },
      "source": [
        "arr_a = ((np.random.rand(15)*10).astype(int)).reshape(3,5)"
      ],
      "execution_count": 156,
      "outputs": [
        {
          "output_type": "error",
          "ename": "TypeError",
          "evalue": "ignored",
          "traceback": [
            "\u001b[0;31m---------------------------------------------------------------------------\u001b[0m",
            "\u001b[0;31mTypeError\u001b[0m                                 Traceback (most recent call last)",
            "\u001b[0;32m<ipython-input-156-ec0493b2bdc3>\u001b[0m in \u001b[0;36m<module>\u001b[0;34m()\u001b[0m\n\u001b[0;32m----> 1\u001b[0;31m \u001b[0marr_a\u001b[0m \u001b[0;34m=\u001b[0m \u001b[0;34m(\u001b[0m\u001b[0;34m(\u001b[0m\u001b[0mnp\u001b[0m\u001b[0;34m.\u001b[0m\u001b[0mrandom\u001b[0m\u001b[0;34m.\u001b[0m\u001b[0mrand\u001b[0m\u001b[0;34m(\u001b[0m\u001b[0;36m15\u001b[0m\u001b[0;34m)\u001b[0m\u001b[0;34m*\u001b[0m\u001b[0;36m10\u001b[0m\u001b[0;34m)\u001b[0m\u001b[0;34m.\u001b[0m\u001b[0mastype\u001b[0m\u001b[0;34m(\u001b[0m\u001b[0mint\u001b[0m\u001b[0;34m)\u001b[0m\u001b[0;34m)\u001b[0m\u001b[0;34m.\u001b[0m\u001b[0mreshape\u001b[0m\u001b[0;34m(\u001b[0m\u001b[0;36m3\u001b[0m\u001b[0;34m,\u001b[0m\u001b[0;36m5\u001b[0m\u001b[0;34m)\u001b[0m\u001b[0;34m\u001b[0m\u001b[0;34m\u001b[0m\u001b[0m\n\u001b[0m",
            "\u001b[0;31mTypeError\u001b[0m: Cannot construct a dtype from an array"
          ]
        }
      ]
    },
    {
      "cell_type": "markdown",
      "metadata": {
        "id": "Ht7ke6kJ4xvn"
      },
      "source": [
        "##Pandas"
      ]
    },
    {
      "cell_type": "code",
      "metadata": {
        "id": "3Begjhcz4yrb"
      },
      "source": [
        "import pandas as pd"
      ],
      "execution_count": 157,
      "outputs": []
    },
    {
      "cell_type": "code",
      "metadata": {
        "id": "rHDRTYGb_sH3"
      },
      "source": [
        "import numpy as np"
      ],
      "execution_count": 158,
      "outputs": []
    },
    {
      "cell_type": "code",
      "metadata": {
        "id": "jCcFF-bx_y4O"
      },
      "source": [
        "p_series = pd.Series([7,11,19,113])"
      ],
      "execution_count": 160,
      "outputs": []
    },
    {
      "cell_type": "code",
      "metadata": {
        "colab": {
          "base_uri": "https://localhost:8080/"
        },
        "id": "xx5M4Hzh_4Nk",
        "outputId": "62d34715-450b-4589-a0ac-ce280509bee5"
      },
      "source": [
        "p_series"
      ],
      "execution_count": 161,
      "outputs": [
        {
          "output_type": "execute_result",
          "data": {
            "text/plain": [
              "0      7\n",
              "1     11\n",
              "2     19\n",
              "3    113\n",
              "dtype: int64"
            ]
          },
          "metadata": {},
          "execution_count": 161
        }
      ]
    },
    {
      "cell_type": "code",
      "metadata": {
        "id": "eWTZ_OTSAH4i"
      },
      "source": [
        "p_series_2 = pd.Series(29,range(5))"
      ],
      "execution_count": 162,
      "outputs": []
    },
    {
      "cell_type": "code",
      "metadata": {
        "colab": {
          "base_uri": "https://localhost:8080/"
        },
        "id": "JR9jWuKoAX6T",
        "outputId": "3f770f83-82e8-4859-88e7-cd8d30442abf"
      },
      "source": [
        "p_series_2 "
      ],
      "execution_count": 163,
      "outputs": [
        {
          "output_type": "execute_result",
          "data": {
            "text/plain": [
              "0    29\n",
              "1    29\n",
              "2    29\n",
              "3    29\n",
              "4    29\n",
              "dtype: int64"
            ]
          },
          "metadata": {},
          "execution_count": 163
        }
      ]
    },
    {
      "cell_type": "code",
      "metadata": {
        "colab": {
          "base_uri": "https://localhost:8080/"
        },
        "id": "YB4r-xuFAZft",
        "outputId": "0099ea75-36d7-4218-874f-bf86fdd0c933"
      },
      "source": [
        "p_series[3]"
      ],
      "execution_count": 164,
      "outputs": [
        {
          "output_type": "execute_result",
          "data": {
            "text/plain": [
              "113"
            ]
          },
          "metadata": {},
          "execution_count": 164
        }
      ]
    },
    {
      "cell_type": "code",
      "metadata": {
        "id": "na8njf08Ay8i"
      },
      "source": [
        "p_series_3 = pd.Series(np.random.randint(1,150,10))"
      ],
      "execution_count": 168,
      "outputs": []
    },
    {
      "cell_type": "code",
      "metadata": {
        "colab": {
          "base_uri": "https://localhost:8080/"
        },
        "id": "_ZM171O6BM1v",
        "outputId": "6e8e0c80-609d-498d-8bbb-959228018184"
      },
      "source": [
        "p_series_3"
      ],
      "execution_count": 169,
      "outputs": [
        {
          "output_type": "execute_result",
          "data": {
            "text/plain": [
              "0     10\n",
              "1     61\n",
              "2      4\n",
              "3     54\n",
              "4    148\n",
              "5    137\n",
              "6     30\n",
              "7    112\n",
              "8      6\n",
              "9     80\n",
              "dtype: int64"
            ]
          },
          "metadata": {},
          "execution_count": 169
        }
      ]
    },
    {
      "cell_type": "code",
      "metadata": {
        "colab": {
          "base_uri": "https://localhost:8080/"
        },
        "id": "ZrGh_6a8BOI7",
        "outputId": "43004da5-ec9e-4466-b6e3-1e45dbcb0bf9"
      },
      "source": [
        "p_series_3.max()"
      ],
      "execution_count": 170,
      "outputs": [
        {
          "output_type": "execute_result",
          "data": {
            "text/plain": [
              "148"
            ]
          },
          "metadata": {},
          "execution_count": 170
        }
      ]
    },
    {
      "cell_type": "code",
      "metadata": {
        "colab": {
          "base_uri": "https://localhost:8080/"
        },
        "id": "ZQRhVL2lBXe1",
        "outputId": "32117c54-6676-4b18-ab6c-0c40f5101806"
      },
      "source": [
        "p_series_3.min()"
      ],
      "execution_count": 171,
      "outputs": [
        {
          "output_type": "execute_result",
          "data": {
            "text/plain": [
              "4"
            ]
          },
          "metadata": {},
          "execution_count": 171
        }
      ]
    },
    {
      "cell_type": "code",
      "metadata": {
        "colab": {
          "base_uri": "https://localhost:8080/"
        },
        "id": "scBRhiAtBZVE",
        "outputId": "aecf88a4-9627-4591-ec0a-8e2879a96bf6"
      },
      "source": [
        "p_series_3.mean()"
      ],
      "execution_count": 172,
      "outputs": [
        {
          "output_type": "execute_result",
          "data": {
            "text/plain": [
              "64.2"
            ]
          },
          "metadata": {},
          "execution_count": 172
        }
      ]
    },
    {
      "cell_type": "code",
      "metadata": {
        "colab": {
          "base_uri": "https://localhost:8080/"
        },
        "id": "km7WNDsvBbxn",
        "outputId": "ef598453-a1d6-4c11-a69d-ee6f27d25749"
      },
      "source": [
        "p_series_3.std()"
      ],
      "execution_count": 173,
      "outputs": [
        {
          "output_type": "execute_result",
          "data": {
            "text/plain": [
              "53.840917938352845"
            ]
          },
          "metadata": {},
          "execution_count": 173
        }
      ]
    },
    {
      "cell_type": "code",
      "metadata": {
        "colab": {
          "base_uri": "https://localhost:8080/"
        },
        "id": "UEmBY_WoBhlX",
        "outputId": "3d1156b5-0658-44b8-ac7e-6b30e805e3c7"
      },
      "source": [
        "p_series_3.describe()"
      ],
      "execution_count": 174,
      "outputs": [
        {
          "output_type": "execute_result",
          "data": {
            "text/plain": [
              "count     10.000000\n",
              "mean      64.200000\n",
              "std       53.840918\n",
              "min        4.000000\n",
              "25%       15.000000\n",
              "50%       57.500000\n",
              "75%      104.000000\n",
              "max      148.000000\n",
              "dtype: float64"
            ]
          },
          "metadata": {},
          "execution_count": 174
        }
      ]
    },
    {
      "cell_type": "code",
      "metadata": {
        "colab": {
          "base_uri": "https://localhost:8080/"
        },
        "id": "cWXIs0kABkCU",
        "outputId": "0ff874d1-d05e-43f9-8b33-158f5aaba66e"
      },
      "source": [
        "help"
      ],
      "execution_count": 175,
      "outputs": [
        {
          "output_type": "execute_result",
          "data": {
            "text/plain": [
              "Type help() for interactive help, or help(object) for help about object."
            ]
          },
          "metadata": {},
          "execution_count": 175
        }
      ]
    },
    {
      "cell_type": "code",
      "metadata": {
        "colab": {
          "base_uri": "https://localhost:8080/"
        },
        "id": "tQVybYdlBn8A",
        "outputId": "1a575d6d-0b24-46c0-898b-f46d9e958a95"
      },
      "source": [
        "p_series_3.head()"
      ],
      "execution_count": 179,
      "outputs": [
        {
          "output_type": "execute_result",
          "data": {
            "text/plain": [
              "0     10\n",
              "1     61\n",
              "2      4\n",
              "3     54\n",
              "4    148\n",
              "dtype: int64"
            ]
          },
          "metadata": {},
          "execution_count": 179
        }
      ]
    },
    {
      "cell_type": "code",
      "metadata": {
        "colab": {
          "base_uri": "https://localhost:8080/"
        },
        "id": "bgLnTtJTBuN5",
        "outputId": "df2771fc-13e0-4859-feae-c6d6617f7fb2"
      },
      "source": [
        "p_series_3.head(2)"
      ],
      "execution_count": 180,
      "outputs": [
        {
          "output_type": "execute_result",
          "data": {
            "text/plain": [
              "0    10\n",
              "1    61\n",
              "dtype: int64"
            ]
          },
          "metadata": {},
          "execution_count": 180
        }
      ]
    },
    {
      "cell_type": "code",
      "metadata": {
        "colab": {
          "base_uri": "https://localhost:8080/"
        },
        "id": "Sr7FmS_HByNQ",
        "outputId": "4b91bf7d-cc5a-44aa-8623-803444a129ac"
      },
      "source": [
        "p_series_3.tail()"
      ],
      "execution_count": 181,
      "outputs": [
        {
          "output_type": "execute_result",
          "data": {
            "text/plain": [
              "5    137\n",
              "6     30\n",
              "7    112\n",
              "8      6\n",
              "9     80\n",
              "dtype: int64"
            ]
          },
          "metadata": {},
          "execution_count": 181
        }
      ]
    },
    {
      "cell_type": "code",
      "metadata": {
        "colab": {
          "base_uri": "https://localhost:8080/"
        },
        "id": "qZpgWP75B6Fv",
        "outputId": "1cc2ef0a-3710-44bb-a90c-a7e1d890a189"
      },
      "source": [
        "p_series_3.tail(2)"
      ],
      "execution_count": 182,
      "outputs": [
        {
          "output_type": "execute_result",
          "data": {
            "text/plain": [
              "8     6\n",
              "9    80\n",
              "dtype: int64"
            ]
          },
          "metadata": {},
          "execution_count": 182
        }
      ]
    },
    {
      "cell_type": "code",
      "metadata": {
        "id": "34NL46JrB_Gy"
      },
      "source": [
        "p_series_4 = pd.Series([5,13,23,29], index = [\"Joe\",\"William\",\"Jack\",\"Avarell\"])"
      ],
      "execution_count": 183,
      "outputs": []
    },
    {
      "cell_type": "code",
      "metadata": {
        "colab": {
          "base_uri": "https://localhost:8080/"
        },
        "id": "WgB2i2miCSip",
        "outputId": "0ee8abf1-c188-4778-d8d5-1ffed6d0cffa"
      },
      "source": [
        "p_series_4"
      ],
      "execution_count": 184,
      "outputs": [
        {
          "output_type": "execute_result",
          "data": {
            "text/plain": [
              "Joe         5\n",
              "William    13\n",
              "Jack       23\n",
              "Avarell    29\n",
              "dtype: int64"
            ]
          },
          "metadata": {},
          "execution_count": 184
        }
      ]
    },
    {
      "cell_type": "code",
      "metadata": {
        "colab": {
          "base_uri": "https://localhost:8080/"
        },
        "id": "vKlUK5XoCTsg",
        "outputId": "53cbd965-a570-4a1b-cb0d-6d58c3c85f4f"
      },
      "source": [
        "p_series_4['Jack']"
      ],
      "execution_count": 185,
      "outputs": [
        {
          "output_type": "execute_result",
          "data": {
            "text/plain": [
              "23"
            ]
          },
          "metadata": {},
          "execution_count": 185
        }
      ]
    },
    {
      "cell_type": "code",
      "metadata": {
        "colab": {
          "base_uri": "https://localhost:8080/"
        },
        "id": "kcsus4pYCb8V",
        "outputId": "15dea522-ec16-4524-dab0-e251d9eadf5b"
      },
      "source": [
        "p_series_4.Joe"
      ],
      "execution_count": 186,
      "outputs": [
        {
          "output_type": "execute_result",
          "data": {
            "text/plain": [
              "5"
            ]
          },
          "metadata": {},
          "execution_count": 186
        }
      ]
    },
    {
      "cell_type": "code",
      "metadata": {
        "id": "LcJnpV5hCfSL"
      },
      "source": [
        "p_series_d = pd.Series({\"One\":1,\"Two\":2,\"Three\":3,\"Four\":4,\"Five\":5})"
      ],
      "execution_count": 187,
      "outputs": []
    },
    {
      "cell_type": "code",
      "metadata": {
        "colab": {
          "base_uri": "https://localhost:8080/"
        },
        "id": "GoKCpcZ8Cx24",
        "outputId": "416398b9-977d-4596-8e09-a56ef621aeda"
      },
      "source": [
        "p_series_d"
      ],
      "execution_count": 188,
      "outputs": [
        {
          "output_type": "execute_result",
          "data": {
            "text/plain": [
              "One      1\n",
              "Two      2\n",
              "Three    3\n",
              "Four     4\n",
              "Five     5\n",
              "dtype: int64"
            ]
          },
          "metadata": {},
          "execution_count": 188
        }
      ]
    },
    {
      "cell_type": "code",
      "metadata": {
        "id": "Odk2d77iCzFe"
      },
      "source": [
        "p_series_s = pd.Series(['Tom','Jerry',\"Spike\",\"Tyke\",\"Nibbles\",\"Quacker\"])"
      ],
      "execution_count": 189,
      "outputs": []
    },
    {
      "cell_type": "code",
      "metadata": {
        "colab": {
          "base_uri": "https://localhost:8080/"
        },
        "id": "JPZR3zfBC83i",
        "outputId": "0e92ff2f-a2fb-43e4-b5e7-d755ec6c17fe"
      },
      "source": [
        "p_series_s"
      ],
      "execution_count": 190,
      "outputs": [
        {
          "output_type": "execute_result",
          "data": {
            "text/plain": [
              "0        Tom\n",
              "1      Jerry\n",
              "2      Spike\n",
              "3       Tyke\n",
              "4    Nibbles\n",
              "5    Quacker\n",
              "dtype: object"
            ]
          },
          "metadata": {},
          "execution_count": 190
        }
      ]
    },
    {
      "cell_type": "code",
      "metadata": {
        "colab": {
          "base_uri": "https://localhost:8080/"
        },
        "id": "JOb6ZiPfC9-m",
        "outputId": "14d78ccb-fa7f-4ba0-f5b4-1cd89289f96c"
      },
      "source": [
        "p_series_s.str.contains('e')"
      ],
      "execution_count": 191,
      "outputs": [
        {
          "output_type": "execute_result",
          "data": {
            "text/plain": [
              "0    False\n",
              "1     True\n",
              "2     True\n",
              "3     True\n",
              "4     True\n",
              "5     True\n",
              "dtype: bool"
            ]
          },
          "metadata": {},
          "execution_count": 191
        }
      ]
    },
    {
      "cell_type": "code",
      "metadata": {
        "colab": {
          "base_uri": "https://localhost:8080/"
        },
        "id": "03Z3LX9WDC0t",
        "outputId": "a91b8a7d-53cd-41a8-8ea6-28f928168029"
      },
      "source": [
        "p_series_s.str.upper()"
      ],
      "execution_count": 192,
      "outputs": [
        {
          "output_type": "execute_result",
          "data": {
            "text/plain": [
              "0        TOM\n",
              "1      JERRY\n",
              "2      SPIKE\n",
              "3       TYKE\n",
              "4    NIBBLES\n",
              "5    QUACKER\n",
              "dtype: object"
            ]
          },
          "metadata": {},
          "execution_count": 192
        }
      ]
    },
    {
      "cell_type": "code",
      "metadata": {
        "id": "aWTSiZLhDLrH"
      },
      "source": [
        "Data = [1,2,3,4,5,6,7]"
      ],
      "execution_count": 193,
      "outputs": []
    },
    {
      "cell_type": "code",
      "metadata": {
        "id": "E9IdWkRXDWWf"
      },
      "source": [
        "Label =[\"apple\",\"cherry\",\"banana\",\"orange\",\"pear\",\"melon\"]"
      ],
      "execution_count": 194,
      "outputs": []
    },
    {
      "cell_type": "code",
      "metadata": {
        "colab": {
          "base_uri": "https://localhost:8080/"
        },
        "id": "N7Okp_CTDb92",
        "outputId": "6638f642-551d-499d-dc7f-759130fed674"
      },
      "source": [
        "pd.Series(data = Data , index = Label)"
      ],
      "execution_count": 195,
      "outputs": [
        {
          "output_type": "execute_result",
          "data": {
            "text/plain": [
              "apple     1\n",
              "cherry    2\n",
              "banana    3\n",
              "orange    4\n",
              "pear      5\n",
              "melon     6\n",
              "dtype: int64"
            ]
          },
          "metadata": {},
          "execution_count": 195
        }
      ]
    },
    {
      "cell_type": "code",
      "metadata": {
        "id": "vZUBhT2ADgnm"
      },
      "source": [
        "sd_rw = pd.Series([70,63,150,45,33,35],[\"Chocolate\",\"Bread\",\"Biscuits\",\"Potates(kg)\",\"Carrots(kg)\",\"Chips\"])"
      ],
      "execution_count": 199,
      "outputs": []
    },
    {
      "cell_type": "code",
      "metadata": {
        "id": "XDwVELHcEKl8"
      },
      "source": [
        "sd_lw = pd.Series([45,51,90,67,44,13],[\"Chocolate\",\"Bread\",\"Biscuits\",\"Potates(kg)\",\"Carrots(kg)\",\"Crackers\"])"
      ],
      "execution_count": 200,
      "outputs": []
    },
    {
      "cell_type": "code",
      "metadata": {
        "colab": {
          "base_uri": "https://localhost:8080/"
        },
        "id": "3tuVc7AdEVvO",
        "outputId": "dd1d12a4-3ef6-40b6-986a-cc354455aa3f"
      },
      "source": [
        "sd_lw"
      ],
      "execution_count": 201,
      "outputs": [
        {
          "output_type": "execute_result",
          "data": {
            "text/plain": [
              "Chocolate      45\n",
              "Bread          51\n",
              "Biscuits       90\n",
              "Potates(kg)    67\n",
              "Carrots(kg)    44\n",
              "Crackers       13\n",
              "dtype: int64"
            ]
          },
          "metadata": {},
          "execution_count": 201
        }
      ]
    },
    {
      "cell_type": "code",
      "metadata": {
        "colab": {
          "base_uri": "https://localhost:8080/"
        },
        "id": "hNAxEkRHEXLD",
        "outputId": "aba3c518-9053-4a77-dbe7-676530a06cae"
      },
      "source": [
        "sd_rw"
      ],
      "execution_count": 202,
      "outputs": [
        {
          "output_type": "execute_result",
          "data": {
            "text/plain": [
              "Chocolate       70\n",
              "Bread           63\n",
              "Biscuits       150\n",
              "Potates(kg)     45\n",
              "Carrots(kg)     33\n",
              "Chips           35\n",
              "dtype: int64"
            ]
          },
          "metadata": {},
          "execution_count": 202
        }
      ]
    },
    {
      "cell_type": "code",
      "metadata": {
        "colab": {
          "base_uri": "https://localhost:8080/"
        },
        "id": "_cWeFrIWEZXD",
        "outputId": "5c5d6896-3a96-4dcb-ff6b-24505e3db268"
      },
      "source": [
        "sd_lw + sd_rw"
      ],
      "execution_count": 203,
      "outputs": [
        {
          "output_type": "execute_result",
          "data": {
            "text/plain": [
              "Biscuits       240.0\n",
              "Bread          114.0\n",
              "Carrots(kg)     77.0\n",
              "Chips            NaN\n",
              "Chocolate      115.0\n",
              "Crackers         NaN\n",
              "Potates(kg)    112.0\n",
              "dtype: float64"
            ]
          },
          "metadata": {},
          "execution_count": 203
        }
      ]
    },
    {
      "cell_type": "code",
      "metadata": {
        "id": "gRexdoTXEdON"
      },
      "source": [
        ""
      ],
      "execution_count": null,
      "outputs": []
    }
  ]
}