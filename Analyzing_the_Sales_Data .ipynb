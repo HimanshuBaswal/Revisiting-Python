{
 "cells": [
  {
   "cell_type": "code",
   "execution_count": 1,
   "id": "8d8cdcb9",
   "metadata": {},
   "outputs": [],
   "source": [
    "# Import the library\n",
    "import pandas as pd "
   ]
  },
  {
   "cell_type": "code",
   "execution_count": 3,
   "id": "2185e883",
   "metadata": {},
   "outputs": [],
   "source": [
    "# Import the CSV file\n",
    "df = pd.read_csv(\"MonthlyProductSales.csv\")"
   ]
  },
  {
   "cell_type": "code",
   "execution_count": 4,
   "id": "1b5857e0",
   "metadata": {},
   "outputs": [
    {
     "data": {
      "text/html": [
       "<div>\n",
       "<style scoped>\n",
       "    .dataframe tbody tr th:only-of-type {\n",
       "        vertical-align: middle;\n",
       "    }\n",
       "\n",
       "    .dataframe tbody tr th {\n",
       "        vertical-align: top;\n",
       "    }\n",
       "\n",
       "    .dataframe thead th {\n",
       "        text-align: right;\n",
       "    }\n",
       "</style>\n",
       "<table border=\"1\" class=\"dataframe\">\n",
       "  <thead>\n",
       "    <tr style=\"text-align: right;\">\n",
       "      <th></th>\n",
       "      <th>Month of Order Date</th>\n",
       "      <th>Product Name</th>\n",
       "      <th>Sales</th>\n",
       "    </tr>\n",
       "  </thead>\n",
       "  <tbody>\n",
       "    <tr>\n",
       "      <th>0</th>\n",
       "      <td>2013-05-01</td>\n",
       "      <td>1.7 Cubic Foot Compact \"Cube\" Office Refrigera...</td>\n",
       "      <td>208.0</td>\n",
       "    </tr>\n",
       "    <tr>\n",
       "      <th>1</th>\n",
       "      <td>2015-06-01</td>\n",
       "      <td>1.7 Cubic Foot Compact \"Cube\" Office Refrigera...</td>\n",
       "      <td>208.0</td>\n",
       "    </tr>\n",
       "    <tr>\n",
       "      <th>2</th>\n",
       "      <td>2013-11-01</td>\n",
       "      <td>1.7 Cubic Foot Compact \"Cube\" Office Refrigera...</td>\n",
       "      <td>333.0</td>\n",
       "    </tr>\n",
       "    <tr>\n",
       "      <th>3</th>\n",
       "      <td>2016-07-01</td>\n",
       "      <td>1.7 Cubic Foot Compact \"Cube\" Office Refrigera...</td>\n",
       "      <td>416.0</td>\n",
       "    </tr>\n",
       "    <tr>\n",
       "      <th>4</th>\n",
       "      <td>2016-11-01</td>\n",
       "      <td>1.7 Cubic Foot Compact \"Cube\" Office Refrigera...</td>\n",
       "      <td>500.0</td>\n",
       "    </tr>\n",
       "  </tbody>\n",
       "</table>\n",
       "</div>"
      ],
      "text/plain": [
       "  Month of Order Date                                       Product Name  \\\n",
       "0          2013-05-01  1.7 Cubic Foot Compact \"Cube\" Office Refrigera...   \n",
       "1          2015-06-01  1.7 Cubic Foot Compact \"Cube\" Office Refrigera...   \n",
       "2          2013-11-01  1.7 Cubic Foot Compact \"Cube\" Office Refrigera...   \n",
       "3          2016-07-01  1.7 Cubic Foot Compact \"Cube\" Office Refrigera...   \n",
       "4          2016-11-01  1.7 Cubic Foot Compact \"Cube\" Office Refrigera...   \n",
       "\n",
       "   Sales  \n",
       "0  208.0  \n",
       "1  208.0  \n",
       "2  333.0  \n",
       "3  416.0  \n",
       "4  500.0  "
      ]
     },
     "execution_count": 4,
     "metadata": {},
     "output_type": "execute_result"
    }
   ],
   "source": [
    "df.head()"
   ]
  },
  {
   "cell_type": "code",
   "execution_count": 5,
   "id": "70c72f7e",
   "metadata": {},
   "outputs": [
    {
     "name": "stdout",
     "output_type": "stream",
     "text": [
      "<class 'pandas.core.frame.DataFrame'>\n",
      "RangeIndex: 9252 entries, 0 to 9251\n",
      "Data columns (total 3 columns):\n",
      " #   Column               Non-Null Count  Dtype  \n",
      "---  ------               --------------  -----  \n",
      " 0   Month of Order Date  9252 non-null   object \n",
      " 1   Product Name         9252 non-null   object \n",
      " 2   Sales                9252 non-null   float64\n",
      "dtypes: float64(1), object(2)\n",
      "memory usage: 217.0+ KB\n"
     ]
    }
   ],
   "source": [
    "df.info()"
   ]
  },
  {
   "cell_type": "code",
   "execution_count": 6,
   "id": "5fa1db25",
   "metadata": {},
   "outputs": [
    {
     "data": {
      "text/html": [
       "<div>\n",
       "<style scoped>\n",
       "    .dataframe tbody tr th:only-of-type {\n",
       "        vertical-align: middle;\n",
       "    }\n",
       "\n",
       "    .dataframe tbody tr th {\n",
       "        vertical-align: top;\n",
       "    }\n",
       "\n",
       "    .dataframe thead th {\n",
       "        text-align: right;\n",
       "    }\n",
       "</style>\n",
       "<table border=\"1\" class=\"dataframe\">\n",
       "  <thead>\n",
       "    <tr style=\"text-align: right;\">\n",
       "      <th></th>\n",
       "      <th>Sales</th>\n",
       "    </tr>\n",
       "  </thead>\n",
       "  <tbody>\n",
       "    <tr>\n",
       "      <th>count</th>\n",
       "      <td>9252.000000</td>\n",
       "    </tr>\n",
       "    <tr>\n",
       "      <th>mean</th>\n",
       "      <td>248.308798</td>\n",
       "    </tr>\n",
       "    <tr>\n",
       "      <th>std</th>\n",
       "      <td>669.441779</td>\n",
       "    </tr>\n",
       "    <tr>\n",
       "      <th>min</th>\n",
       "      <td>0.000000</td>\n",
       "    </tr>\n",
       "    <tr>\n",
       "      <th>25%</th>\n",
       "      <td>18.000000</td>\n",
       "    </tr>\n",
       "    <tr>\n",
       "      <th>50%</th>\n",
       "      <td>60.000000</td>\n",
       "    </tr>\n",
       "    <tr>\n",
       "      <th>75%</th>\n",
       "      <td>222.000000</td>\n",
       "    </tr>\n",
       "    <tr>\n",
       "      <th>max</th>\n",
       "      <td>22638.000000</td>\n",
       "    </tr>\n",
       "  </tbody>\n",
       "</table>\n",
       "</div>"
      ],
      "text/plain": [
       "              Sales\n",
       "count   9252.000000\n",
       "mean     248.308798\n",
       "std      669.441779\n",
       "min        0.000000\n",
       "25%       18.000000\n",
       "50%       60.000000\n",
       "75%      222.000000\n",
       "max    22638.000000"
      ]
     },
     "execution_count": 6,
     "metadata": {},
     "output_type": "execute_result"
    }
   ],
   "source": [
    "#Descriptive Statistics\n",
    "df.describe()"
   ]
  },
  {
   "cell_type": "code",
   "execution_count": 7,
   "id": "e1cf3ded",
   "metadata": {},
   "outputs": [
    {
     "data": {
      "text/plain": [
       "Easy-staple paper                                       32\n",
       "Staple envelope                                         30\n",
       "Staples                                                 30\n",
       "Staples in misc. colors                                 18\n",
       "KI Adjustable-Height Table                              14\n",
       "                                                        ..\n",
       "Xerox WorkCentre 6505DN Laser Multifunction Printer      1\n",
       "Zebra GK420t Direct Thermal/Thermal Transfer Printer     1\n",
       "Sony 8GB Class 10 Micro SDHC R40 Memory Card             1\n",
       "Plantronics Single Ear Headset                           1\n",
       "Star Micronics TSP100 TSP143LAN Receipt Printer          1\n",
       "Name: Product Name, Length: 1850, dtype: int64"
      ]
     },
     "execution_count": 7,
     "metadata": {},
     "output_type": "execute_result"
    }
   ],
   "source": [
    "# Count of products\n",
    "pn = df['Product Name']\n",
    "pn.value_counts(dropna=False)"
   ]
  },
  {
   "cell_type": "code",
   "execution_count": 8,
   "id": "b77f2e02",
   "metadata": {},
   "outputs": [
    {
     "data": {
      "text/plain": [
       "0       2013\n",
       "1       2015\n",
       "2       2013\n",
       "3       2016\n",
       "4       2016\n",
       "        ... \n",
       "9247    2016\n",
       "9248    2016\n",
       "9249    2013\n",
       "9250    2016\n",
       "9251    2013\n",
       "Name: Month of Order Date, Length: 9252, dtype: object"
      ]
     },
     "execution_count": 8,
     "metadata": {},
     "output_type": "execute_result"
    }
   ],
   "source": [
    "# Year of Order Date\n",
    "df['Month of Order Date'].str[:4]"
   ]
  },
  {
   "cell_type": "code",
   "execution_count": 9,
   "id": "a35b8f91",
   "metadata": {},
   "outputs": [
    {
     "data": {
      "text/html": [
       "<div>\n",
       "<style scoped>\n",
       "    .dataframe tbody tr th:only-of-type {\n",
       "        vertical-align: middle;\n",
       "    }\n",
       "\n",
       "    .dataframe tbody tr th {\n",
       "        vertical-align: top;\n",
       "    }\n",
       "\n",
       "    .dataframe thead tr th {\n",
       "        text-align: left;\n",
       "    }\n",
       "\n",
       "    .dataframe thead tr:last-of-type th {\n",
       "        text-align: right;\n",
       "    }\n",
       "</style>\n",
       "<table border=\"1\" class=\"dataframe\">\n",
       "  <thead>\n",
       "    <tr>\n",
       "      <th></th>\n",
       "      <th colspan=\"8\" halign=\"left\">Sales</th>\n",
       "    </tr>\n",
       "    <tr>\n",
       "      <th></th>\n",
       "      <th>count</th>\n",
       "      <th>mean</th>\n",
       "      <th>std</th>\n",
       "      <th>min</th>\n",
       "      <th>25%</th>\n",
       "      <th>50%</th>\n",
       "      <th>75%</th>\n",
       "      <th>max</th>\n",
       "    </tr>\n",
       "    <tr>\n",
       "      <th>Month of Order Date</th>\n",
       "      <th></th>\n",
       "      <th></th>\n",
       "      <th></th>\n",
       "      <th></th>\n",
       "      <th></th>\n",
       "      <th></th>\n",
       "      <th></th>\n",
       "      <th></th>\n",
       "    </tr>\n",
       "  </thead>\n",
       "  <tbody>\n",
       "    <tr>\n",
       "      <th>2013</th>\n",
       "      <td>1875.0</td>\n",
       "      <td>258.267200</td>\n",
       "      <td>803.537374</td>\n",
       "      <td>1.0</td>\n",
       "      <td>17.0</td>\n",
       "      <td>55.0</td>\n",
       "      <td>224.00</td>\n",
       "      <td>22638.0</td>\n",
       "    </tr>\n",
       "    <tr>\n",
       "      <th>2014</th>\n",
       "      <td>1968.0</td>\n",
       "      <td>239.107215</td>\n",
       "      <td>521.330289</td>\n",
       "      <td>1.0</td>\n",
       "      <td>19.0</td>\n",
       "      <td>62.0</td>\n",
       "      <td>225.25</td>\n",
       "      <td>7312.0</td>\n",
       "    </tr>\n",
       "    <tr>\n",
       "      <th>2015</th>\n",
       "      <td>2400.0</td>\n",
       "      <td>253.550833</td>\n",
       "      <td>711.795040</td>\n",
       "      <td>1.0</td>\n",
       "      <td>19.0</td>\n",
       "      <td>58.5</td>\n",
       "      <td>222.00</td>\n",
       "      <td>17500.0</td>\n",
       "    </tr>\n",
       "    <tr>\n",
       "      <th>2016</th>\n",
       "      <td>3009.0</td>\n",
       "      <td>243.940512</td>\n",
       "      <td>627.741547</td>\n",
       "      <td>0.0</td>\n",
       "      <td>18.0</td>\n",
       "      <td>60.0</td>\n",
       "      <td>221.00</td>\n",
       "      <td>14000.0</td>\n",
       "    </tr>\n",
       "  </tbody>\n",
       "</table>\n",
       "</div>"
      ],
      "text/plain": [
       "                      Sales                                                   \\\n",
       "                      count        mean         std  min   25%   50%     75%   \n",
       "Month of Order Date                                                            \n",
       "2013                 1875.0  258.267200  803.537374  1.0  17.0  55.0  224.00   \n",
       "2014                 1968.0  239.107215  521.330289  1.0  19.0  62.0  225.25   \n",
       "2015                 2400.0  253.550833  711.795040  1.0  19.0  58.5  222.00   \n",
       "2016                 3009.0  243.940512  627.741547  0.0  18.0  60.0  221.00   \n",
       "\n",
       "                              \n",
       "                         max  \n",
       "Month of Order Date           \n",
       "2013                 22638.0  \n",
       "2014                  7312.0  \n",
       "2015                 17500.0  \n",
       "2016                 14000.0  "
      ]
     },
     "execution_count": 9,
     "metadata": {},
     "output_type": "execute_result"
    }
   ],
   "source": [
    "df.groupby(df['Month of Order Date'].str[:4]).describe()"
   ]
  },
  {
   "cell_type": "code",
   "execution_count": 11,
   "id": "898191e7",
   "metadata": {},
   "outputs": [
    {
     "data": {
      "text/html": [
       "<div>\n",
       "<style scoped>\n",
       "    .dataframe tbody tr th:only-of-type {\n",
       "        vertical-align: middle;\n",
       "    }\n",
       "\n",
       "    .dataframe tbody tr th {\n",
       "        vertical-align: top;\n",
       "    }\n",
       "\n",
       "    .dataframe thead tr th {\n",
       "        text-align: left;\n",
       "    }\n",
       "</style>\n",
       "<table border=\"1\" class=\"dataframe\">\n",
       "  <thead>\n",
       "    <tr>\n",
       "      <th></th>\n",
       "      <th>Year</th>\n",
       "      <th colspan=\"8\" halign=\"left\">Sales</th>\n",
       "    </tr>\n",
       "    <tr>\n",
       "      <th></th>\n",
       "      <th></th>\n",
       "      <th>count</th>\n",
       "      <th>mean</th>\n",
       "      <th>std</th>\n",
       "      <th>min</th>\n",
       "      <th>25%</th>\n",
       "      <th>50%</th>\n",
       "      <th>75%</th>\n",
       "      <th>max</th>\n",
       "    </tr>\n",
       "  </thead>\n",
       "  <tbody>\n",
       "    <tr>\n",
       "      <th>0</th>\n",
       "      <td>2013</td>\n",
       "      <td>1875.0</td>\n",
       "      <td>258.267200</td>\n",
       "      <td>803.537374</td>\n",
       "      <td>1.0</td>\n",
       "      <td>17.0</td>\n",
       "      <td>55.0</td>\n",
       "      <td>224.00</td>\n",
       "      <td>22638.0</td>\n",
       "    </tr>\n",
       "    <tr>\n",
       "      <th>1</th>\n",
       "      <td>2014</td>\n",
       "      <td>1968.0</td>\n",
       "      <td>239.107215</td>\n",
       "      <td>521.330289</td>\n",
       "      <td>1.0</td>\n",
       "      <td>19.0</td>\n",
       "      <td>62.0</td>\n",
       "      <td>225.25</td>\n",
       "      <td>7312.0</td>\n",
       "    </tr>\n",
       "    <tr>\n",
       "      <th>2</th>\n",
       "      <td>2015</td>\n",
       "      <td>2400.0</td>\n",
       "      <td>253.550833</td>\n",
       "      <td>711.795040</td>\n",
       "      <td>1.0</td>\n",
       "      <td>19.0</td>\n",
       "      <td>58.5</td>\n",
       "      <td>222.00</td>\n",
       "      <td>17500.0</td>\n",
       "    </tr>\n",
       "    <tr>\n",
       "      <th>3</th>\n",
       "      <td>2016</td>\n",
       "      <td>3009.0</td>\n",
       "      <td>243.940512</td>\n",
       "      <td>627.741547</td>\n",
       "      <td>0.0</td>\n",
       "      <td>18.0</td>\n",
       "      <td>60.0</td>\n",
       "      <td>221.00</td>\n",
       "      <td>14000.0</td>\n",
       "    </tr>\n",
       "  </tbody>\n",
       "</table>\n",
       "</div>"
      ],
      "text/plain": [
       "   Year   Sales                                                          \n",
       "          count        mean         std  min   25%   50%     75%      max\n",
       "0  2013  1875.0  258.267200  803.537374  1.0  17.0  55.0  224.00  22638.0\n",
       "1  2014  1968.0  239.107215  521.330289  1.0  19.0  62.0  225.25   7312.0\n",
       "2  2015  2400.0  253.550833  711.795040  1.0  19.0  58.5  222.00  17500.0\n",
       "3  2016  3009.0  243.940512  627.741547  0.0  18.0  60.0  221.00  14000.0"
      ]
     },
     "execution_count": 11,
     "metadata": {},
     "output_type": "execute_result"
    }
   ],
   "source": [
    "# Descriptive Statistics by year\n",
    "df.groupby(df['Month of Order Date'].str[:4]).describe().reset_index().rename(columns = {\"Month of Order Date\":\"Year\"})"
   ]
  },
  {
   "cell_type": "code",
   "execution_count": 12,
   "id": "1876cbd4",
   "metadata": {},
   "outputs": [],
   "source": [
    "yearly_product_sales = df.groupby([df['Month of Order Date'].str[:4], \"Product Name\"]).sum().reset_index()"
   ]
  },
  {
   "cell_type": "code",
   "execution_count": 14,
   "id": "c0b759d4",
   "metadata": {},
   "outputs": [
    {
     "data": {
      "text/html": [
       "<div>\n",
       "<style scoped>\n",
       "    .dataframe tbody tr th:only-of-type {\n",
       "        vertical-align: middle;\n",
       "    }\n",
       "\n",
       "    .dataframe tbody tr th {\n",
       "        vertical-align: top;\n",
       "    }\n",
       "\n",
       "    .dataframe thead th {\n",
       "        text-align: right;\n",
       "    }\n",
       "</style>\n",
       "<table border=\"1\" class=\"dataframe\">\n",
       "  <thead>\n",
       "    <tr style=\"text-align: right;\">\n",
       "      <th></th>\n",
       "      <th>Year</th>\n",
       "      <th>Product Name</th>\n",
       "      <th>Sales</th>\n",
       "    </tr>\n",
       "  </thead>\n",
       "  <tbody>\n",
       "    <tr>\n",
       "      <th>0</th>\n",
       "      <td>2013</td>\n",
       "      <td>#10 White Business Envelopes,4 1/8 x 9 1/2</td>\n",
       "      <td>156.0</td>\n",
       "    </tr>\n",
       "    <tr>\n",
       "      <th>1</th>\n",
       "      <td>2013</td>\n",
       "      <td>#10- 4 1/8\" x 9 1/2\" Recycled Envelopes</td>\n",
       "      <td>63.0</td>\n",
       "    </tr>\n",
       "    <tr>\n",
       "      <th>2</th>\n",
       "      <td>2013</td>\n",
       "      <td>#10- 4 1/8\" x 9 1/2\" Security-Tint Envelopes</td>\n",
       "      <td>23.0</td>\n",
       "    </tr>\n",
       "    <tr>\n",
       "      <th>3</th>\n",
       "      <td>2013</td>\n",
       "      <td>1.7 Cubic Foot Compact \"Cube\" Office Refrigera...</td>\n",
       "      <td>541.0</td>\n",
       "    </tr>\n",
       "    <tr>\n",
       "      <th>4</th>\n",
       "      <td>2013</td>\n",
       "      <td>1/4 Fold Party Design Invitations &amp; White Enve...</td>\n",
       "      <td>6.0</td>\n",
       "    </tr>\n",
       "    <tr>\n",
       "      <th>...</th>\n",
       "      <td>...</td>\n",
       "      <td>...</td>\n",
       "      <td>...</td>\n",
       "    </tr>\n",
       "    <tr>\n",
       "      <th>5321</th>\n",
       "      <td>2016</td>\n",
       "      <td>iKross Bluetooth Portable Keyboard + Cell Phon...</td>\n",
       "      <td>67.0</td>\n",
       "    </tr>\n",
       "    <tr>\n",
       "      <th>5322</th>\n",
       "      <td>2016</td>\n",
       "      <td>iOttie HLCRIO102 Car Mount</td>\n",
       "      <td>120.0</td>\n",
       "    </tr>\n",
       "    <tr>\n",
       "      <th>5323</th>\n",
       "      <td>2016</td>\n",
       "      <td>iOttie XL Car Mount</td>\n",
       "      <td>224.0</td>\n",
       "    </tr>\n",
       "    <tr>\n",
       "      <th>5324</th>\n",
       "      <td>2016</td>\n",
       "      <td>invisibleSHIELD by ZAGG Smudge-Free Screen Pro...</td>\n",
       "      <td>205.0</td>\n",
       "    </tr>\n",
       "    <tr>\n",
       "      <th>5325</th>\n",
       "      <td>2016</td>\n",
       "      <td>netTALK DUO VoIP Telephone Service</td>\n",
       "      <td>168.0</td>\n",
       "    </tr>\n",
       "  </tbody>\n",
       "</table>\n",
       "<p>5326 rows × 3 columns</p>\n",
       "</div>"
      ],
      "text/plain": [
       "      Year                                       Product Name  Sales\n",
       "0     2013         #10 White Business Envelopes,4 1/8 x 9 1/2  156.0\n",
       "1     2013            #10- 4 1/8\" x 9 1/2\" Recycled Envelopes   63.0\n",
       "2     2013       #10- 4 1/8\" x 9 1/2\" Security-Tint Envelopes   23.0\n",
       "3     2013  1.7 Cubic Foot Compact \"Cube\" Office Refrigera...  541.0\n",
       "4     2013  1/4 Fold Party Design Invitations & White Enve...    6.0\n",
       "...    ...                                                ...    ...\n",
       "5321  2016  iKross Bluetooth Portable Keyboard + Cell Phon...   67.0\n",
       "5322  2016                         iOttie HLCRIO102 Car Mount  120.0\n",
       "5323  2016                                iOttie XL Car Mount  224.0\n",
       "5324  2016  invisibleSHIELD by ZAGG Smudge-Free Screen Pro...  205.0\n",
       "5325  2016                 netTALK DUO VoIP Telephone Service  168.0\n",
       "\n",
       "[5326 rows x 3 columns]"
      ]
     },
     "execution_count": 14,
     "metadata": {},
     "output_type": "execute_result"
    }
   ],
   "source": [
    "# Rename Month of Order date to Year\n",
    "yearly_product_sales.rename(columns = {\"Month of Order Date\":\"Year\"})"
   ]
  },
  {
   "cell_type": "code",
   "execution_count": 15,
   "id": "be00bb98",
   "metadata": {},
   "outputs": [
    {
     "data": {
      "text/html": [
       "<div>\n",
       "<style scoped>\n",
       "    .dataframe tbody tr th:only-of-type {\n",
       "        vertical-align: middle;\n",
       "    }\n",
       "\n",
       "    .dataframe tbody tr th {\n",
       "        vertical-align: top;\n",
       "    }\n",
       "\n",
       "    .dataframe thead th {\n",
       "        text-align: right;\n",
       "    }\n",
       "</style>\n",
       "<table border=\"1\" class=\"dataframe\">\n",
       "  <thead>\n",
       "    <tr style=\"text-align: right;\">\n",
       "      <th></th>\n",
       "      <th>Product Name</th>\n",
       "      <th>Sales</th>\n",
       "    </tr>\n",
       "  </thead>\n",
       "  <tbody>\n",
       "    <tr>\n",
       "      <th>0</th>\n",
       "      <td>\"While you Were Out\" Message Book, One Form pe...</td>\n",
       "      <td>25.0</td>\n",
       "    </tr>\n",
       "    <tr>\n",
       "      <th>1</th>\n",
       "      <td>#10 Gummed Flap White Envelopes, 100/Box</td>\n",
       "      <td>42.0</td>\n",
       "    </tr>\n",
       "    <tr>\n",
       "      <th>2</th>\n",
       "      <td>#10 Self-Seal White Envelopes</td>\n",
       "      <td>109.0</td>\n",
       "    </tr>\n",
       "    <tr>\n",
       "      <th>3</th>\n",
       "      <td>#10 White Business Envelopes,4 1/8 x 9 1/2</td>\n",
       "      <td>489.0</td>\n",
       "    </tr>\n",
       "    <tr>\n",
       "      <th>4</th>\n",
       "      <td>#10- 4 1/8\" x 9 1/2\" Recycled Envelopes</td>\n",
       "      <td>286.0</td>\n",
       "    </tr>\n",
       "    <tr>\n",
       "      <th>...</th>\n",
       "      <td>...</td>\n",
       "      <td>...</td>\n",
       "    </tr>\n",
       "    <tr>\n",
       "      <th>1845</th>\n",
       "      <td>iKross Bluetooth Portable Keyboard + Cell Phon...</td>\n",
       "      <td>479.0</td>\n",
       "    </tr>\n",
       "    <tr>\n",
       "      <th>1846</th>\n",
       "      <td>iOttie HLCRIO102 Car Mount</td>\n",
       "      <td>216.0</td>\n",
       "    </tr>\n",
       "    <tr>\n",
       "      <th>1847</th>\n",
       "      <td>iOttie XL Car Mount</td>\n",
       "      <td>224.0</td>\n",
       "    </tr>\n",
       "    <tr>\n",
       "      <th>1848</th>\n",
       "      <td>invisibleSHIELD by ZAGG Smudge-Free Screen Pro...</td>\n",
       "      <td>442.0</td>\n",
       "    </tr>\n",
       "    <tr>\n",
       "      <th>1849</th>\n",
       "      <td>netTALK DUO VoIP Telephone Service</td>\n",
       "      <td>1113.0</td>\n",
       "    </tr>\n",
       "  </tbody>\n",
       "</table>\n",
       "<p>1850 rows × 2 columns</p>\n",
       "</div>"
      ],
      "text/plain": [
       "                                           Product Name   Sales\n",
       "0     \"While you Were Out\" Message Book, One Form pe...    25.0\n",
       "1              #10 Gummed Flap White Envelopes, 100/Box    42.0\n",
       "2                         #10 Self-Seal White Envelopes   109.0\n",
       "3            #10 White Business Envelopes,4 1/8 x 9 1/2   489.0\n",
       "4               #10- 4 1/8\" x 9 1/2\" Recycled Envelopes   286.0\n",
       "...                                                 ...     ...\n",
       "1845  iKross Bluetooth Portable Keyboard + Cell Phon...   479.0\n",
       "1846                         iOttie HLCRIO102 Car Mount   216.0\n",
       "1847                                iOttie XL Car Mount   224.0\n",
       "1848  invisibleSHIELD by ZAGG Smudge-Free Screen Pro...   442.0\n",
       "1849                 netTALK DUO VoIP Telephone Service  1113.0\n",
       "\n",
       "[1850 rows x 2 columns]"
      ]
     },
     "execution_count": 15,
     "metadata": {},
     "output_type": "execute_result"
    }
   ],
   "source": [
    "# Distinct Product Sales by year\n",
    "df.groupby(\"Product Name\").sum().reset_index()"
   ]
  },
  {
   "cell_type": "code",
   "execution_count": 16,
   "id": "d5a0b768",
   "metadata": {},
   "outputs": [],
   "source": [
    "# Import the Visualizing Libraries\n",
    "import matplotlib.pyplot as plt"
   ]
  },
  {
   "cell_type": "code",
   "execution_count": 18,
   "id": "98e12c48",
   "metadata": {},
   "outputs": [
    {
     "data": {
      "image/png": "[encoded data removed]",
      "text/plain": [
       "<Figure size 432x288 with 1 Axes>"
      ]
     },
     "metadata": {
      "needs_background": "light"
     },
     "output_type": "display_data"
    }
   ],
   "source": [
    "# A Simple plot of Sales by Order Date\n",
    "df.groupby(df['Month of Order Date']).sum().plot()\n",
    "plt.show()"
   ]
  },
  {
   "cell_type": "code",
   "execution_count": 21,
   "id": "e2417c81",
   "metadata": {},
   "outputs": [
    {
     "data": {
      "image/png": "[encoded data removed]",
      "text/plain": [
       "<Figure size 432x288 with 1 Axes>"
      ]
     },
     "metadata": {
      "needs_background": "light"
     },
     "output_type": "display_data"
    }
   ],
   "source": [
    "# Histogram plot of Sales\n",
    "df.groupby(df['Month of Order Date']).sum().plot(kind='hist',bins=10)\n",
    "plt.show()"
   ]
  },
  {
   "cell_type": "code",
   "execution_count": 22,
   "id": "56b019be",
   "metadata": {},
   "outputs": [
    {
     "data": {
      "image/png": "[encoded data removed]",
      "text/plain": [
       "<Figure size 432x288 with 1 Axes>"
      ]
     },
     "metadata": {
      "needs_background": "light"
     },
     "output_type": "display_data"
    }
   ],
   "source": [
    "#Top 10 Sales by Order Date\n",
    "df.groupby(df['Month of Order Date']).sum().sort_values(by='Sales').tail(10).plot(kind='barh')\n",
    "plt.show()"
   ]
  },
  {
   "cell_type": "code",
   "execution_count": null,
   "id": "63d18b21",
   "metadata": {},
   "outputs": [],
   "source": []
  }
 ],
 "metadata": {
  "kernelspec": {
   "display_name": "Python 3",
   "language": "python",
   "name": "python3"
  },
  "language_info": {
   "codemirror_mode": {
    "name": "ipython",
    "version": 3
   },
   "file_extension": ".py",
   "mimetype": "text/x-python",
   "name": "python",
   "nbconvert_exporter": "python",
   "pygments_lexer": "ipython3",
   "version": "3.8.8"
  }
 },
 "nbformat": 4,
 "nbformat_minor": 5
}
